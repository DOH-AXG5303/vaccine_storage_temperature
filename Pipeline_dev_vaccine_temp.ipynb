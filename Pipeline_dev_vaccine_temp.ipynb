{
 "cells": [
  {
   "cell_type": "markdown",
   "id": "e6f898bd-1f54-4301-a9d8-367000cda526",
   "metadata": {},
   "source": [
    "# Vaccine Temp pipeline objectives\n",
    "Notes:\n",
    "\n",
    "Report ID = [38,39] [2137, 2111]\n",
    "\n",
    "A:\n",
    "1) export report: \"Export facility info for temperature logs upload\", #38 (2137)\n",
    "2) add field: \"redcap_event_name\" = \"facility_arm_1\", for all records\n",
    "3) add field: \"facility_info_complete\" = 2, for all records\n",
    "4) set field \"redcap_event_name\" as second index\n",
    "5) import into PID278\n",
    "\n",
    "B:\n",
    "1) export report: \"Export storage info for temperature logs upload\", #39 (2111)\n",
    "2) add field: \"redcap_event_name\" = \"month_year_arm_1\", month spelled out, all lower case, 4 digit integer for year\n",
    "3) add field: \"storage_info_complete\" = 2, for all records\n",
    "4) rename columns according to:\n",
    "\n",
    "{\n",
    " \"waiis_fac_name\":\"waiis_fac_name_s\",\n",
    " \"loc_vfc_pin\":\"loc_vfc_pin_s\",\n",
    " \"org_name\":\"org_name_s\"\n",
    " }\n",
    "\n",
    "5) set field \"redcap_event_name\" as second index\n",
    "6) import into PID278\n"
   ]
  },
  {
   "cell_type": "code",
   "execution_count": 1,
   "id": "ae17dfec-adcb-44b9-8059-c27765584d32",
   "metadata": {},
   "outputs": [],
   "source": [
    "import redcap"
   ]
  },
  {
   "cell_type": "code",
   "execution_count": 2,
   "id": "f965a775-6094-4d94-be47-7cc65b6b85f4",
   "metadata": {},
   "outputs": [],
   "source": [
    "%run -i -n \"credentials.py\""
   ]
  },
  {
   "cell_type": "code",
   "execution_count": 3,
   "id": "8879ade8-0210-4fd2-816b-dd7d66a73120",
   "metadata": {},
   "outputs": [
    {
     "name": "stdout",
     "output_type": "stream",
     "text": [
      "https://qa-redcap.doh.wa.gov/api/\n",
      "https://redcap.doh.wa.gov/api/\n",
      "['dev_pid100', 'dev_pid278', 'prod_pid100', 'prod_pid278']\n"
     ]
    }
   ],
   "source": [
    "print(dev_url)\n",
    "print(prod_url)\n",
    "\n",
    "print([\"dev_pid100\", \"dev_pid278\", \"prod_pid100\", \"prod_pid278\"])"
   ]
  },
  {
   "cell_type": "code",
   "execution_count": 4,
   "id": "ec93191a-6b3d-4ba7-9ffa-612a0dbb5749",
   "metadata": {},
   "outputs": [],
   "source": [
    "prod100 = redcap.Project(prod_url, prod_pid100)\n",
    "dev100 = redcap.Project(dev_url, dev_pid100)"
   ]
  },
  {
   "cell_type": "code",
   "execution_count": 5,
   "id": "f39439a0-8a8f-4569-b3ca-5a872cfaa2bf",
   "metadata": {},
   "outputs": [],
   "source": [
    "dev278 = redcap.Project(dev_url, dev_pid278)"
   ]
  },
  {
   "cell_type": "markdown",
   "id": "0a7d367c-2915-4507-b51c-a221bda35f31",
   "metadata": {},
   "source": [
    "# A) Report: Export Facility info for temperature logs upload, #38 (2137)"
   ]
  },
  {
   "cell_type": "markdown",
   "id": "b0dfc7f7-9767-455d-ba43-3b39034e5a85",
   "metadata": {},
   "source": [
    "## Export Reports and Transform"
   ]
  },
  {
   "cell_type": "code",
   "execution_count": null,
   "id": "c450c0ff-ccb2-45cc-8539-eb0cdf6fe214",
   "metadata": {},
   "outputs": [],
   "source": [
    "# 1)Export Report #38 prod\n",
    "df_facility_info = prod100.export_report(report_id=2137 ,format_type = \"df\")\n",
    "# 2)Create new event field, set all values to \"facility_arm_1\"\n",
    "df_facility_info[\"redcap_event_name\"] = \"facility_arm_1\"\n",
    "# 3) Create new field for complete/incomplete tag, and set all values to 2\n",
    "df_facility_info[\"facility_info_complete\"] = 2\n"
   ]
  },
  {
   "cell_type": "code",
   "execution_count": null,
   "id": "d39e6416-0be9-4cb5-9dd9-fb84a03be444",
   "metadata": {},
   "outputs": [],
   "source": [
    "#4) move \"redcap_event_name\" to first column in prep for import\n",
    "col = df_facility_info.pop(\"redcap_event_name\")\n",
    "df_facility_info.insert(0, col.name, col)"
   ]
  },
  {
   "cell_type": "code",
   "execution_count": null,
   "id": "1acfda7b-a050-4071-8b1b-c6225289df4e",
   "metadata": {},
   "outputs": [],
   "source": [
    "df_facility_info = df_facility_info.reset_index()"
   ]
  },
  {
   "cell_type": "code",
   "execution_count": null,
   "id": "0aded955-9601-45a4-97ca-58feeb2cc2b9",
   "metadata": {},
   "outputs": [],
   "source": [
    "#5) import into dev environment\n",
    "dev278.import_records(df_facility_info, import_format = \"df\")"
   ]
  },
  {
   "cell_type": "code",
   "execution_count": null,
   "id": "cac1a7ff-27d5-4634-942d-41f4abeccda7",
   "metadata": {},
   "outputs": [],
   "source": [
    "df_facility_info"
   ]
  },
  {
   "cell_type": "markdown",
   "id": "f9e45c99-cc56-49a2-9982-1a85c7d42e12",
   "metadata": {},
   "source": [
    "# B) Report: Export storage info for temperature logs upload: #39 (2111)"
   ]
  },
  {
   "cell_type": "markdown",
   "id": "2c41d5c8-dff2-4864-a17a-27b3a8bcac90",
   "metadata": {},
   "source": [
    "## Export Reports and Transform"
   ]
  },
  {
   "cell_type": "code",
   "execution_count": 6,
   "id": "bb383935-1a3f-48e2-835d-c1d111f529a3",
   "metadata": {},
   "outputs": [],
   "source": [
    "# examples: \"march_2022_arm_1\", \"april_2022_arm_1\", \"may_2022_arm_1\", \"june_2022_arm_1\"\n",
    "unique_event = \"may_2022_arm_1\""
   ]
  },
  {
   "cell_type": "code",
   "execution_count": 7,
   "id": "6f0c0b51-d23a-4ce7-846e-b69074ca6e7a",
   "metadata": {},
   "outputs": [],
   "source": [
    "# 1)Export Report #38 prod\n",
    "df_storage_info = prod100.export_report(report_id=2111 ,format_type = \"df\")"
   ]
  },
  {
   "cell_type": "code",
   "execution_count": 8,
   "id": "ffbceec2-457f-4baf-9777-d0cf01f66ee5",
   "metadata": {},
   "outputs": [],
   "source": [
    "# 2)Create new event field, set all values to \"facility_arm_1\"\n",
    "df_storage_info[\"redcap_event_name\"] = unique_event"
   ]
  },
  {
   "cell_type": "code",
   "execution_count": 9,
   "id": "2ad23659-798c-4e45-830e-f8aad03f1cd4",
   "metadata": {},
   "outputs": [],
   "source": [
    "# 3) Create new field for complete/incomplete tag, and set all values to 2\n",
    "df_storage_info[\"storage_info_complete\"] = 2"
   ]
  },
  {
   "cell_type": "code",
   "execution_count": 10,
   "id": "8c8c7526-6635-43a3-bfd7-24811fcc8439",
   "metadata": {},
   "outputs": [],
   "source": [
    "# 4) rename columns \n",
    "mapper = {\"waiis_fac_name\":\"waiis_fac_name_s\", \n",
    "             \"loc_vfc_pin\":\"loc_vfc_pin_s\",\n",
    "             \"org_name\":\"org_name_s\" }\n",
    "\n",
    "df_storage_info = df_storage_info.rename(columns = mapper)"
   ]
  },
  {
   "cell_type": "code",
   "execution_count": 11,
   "id": "825919e5-8041-4cad-8652-15832531a37b",
   "metadata": {},
   "outputs": [],
   "source": [
    "# 5) move \"redcap_event_name\" to first column in prep for import\n",
    "col = df_storage_info.pop(\"redcap_event_name\")\n",
    "df_storage_info.insert(0, col.name, col)"
   ]
  },
  {
   "cell_type": "code",
   "execution_count": 12,
   "id": "4023f37b-9958-44e2-9433-83ad83d6ba68",
   "metadata": {},
   "outputs": [],
   "source": [
    "# 6) conver float fields to int\n",
    "float_fields = df_storage_info.dtypes[df_storage_info.dtypes == float].index\n",
    "df_storage_info.loc[:, float_fields] = df_storage_info.loc[:, float_fields].astype(\"Int64\")"
   ]
  },
  {
   "cell_type": "code",
   "execution_count": null,
   "id": "f3a97e10-9dc2-4a79-b964-bcbfd60922ed",
   "metadata": {},
   "outputs": [],
   "source": []
  },
  {
   "cell_type": "code",
   "execution_count": 13,
   "id": "ea33204e-d125-41af-a43b-ca4b895cbfe7",
   "metadata": {},
   "outputs": [],
   "source": [
    "df_storage_info = df_storage_info.reset_index()"
   ]
  },
  {
   "cell_type": "code",
   "execution_count": 15,
   "id": "609fe9be-71b0-48ae-8a6d-0c2ee697ee09",
   "metadata": {},
   "outputs": [
    {
     "ename": "JSONDecodeError",
     "evalue": "Expecting value: line 1 column 1 (char 0)",
     "output_type": "error",
     "traceback": [
      "\u001b[1;31m---------------------------------------------------------------------------\u001b[0m",
      "\u001b[1;31mJSONDecodeError\u001b[0m                           Traceback (most recent call last)",
      "Input \u001b[1;32mIn [15]\u001b[0m, in \u001b[0;36m<cell line: 2>\u001b[1;34m()\u001b[0m\n\u001b[0;32m      1\u001b[0m \u001b[38;5;66;03m#5) import into dev environment\u001b[39;00m\n\u001b[1;32m----> 2\u001b[0m \u001b[43mdev278\u001b[49m\u001b[38;5;241;43m.\u001b[39;49m\u001b[43mimport_records\u001b[49m\u001b[43m(\u001b[49m\u001b[43mdf_storage_info\u001b[49m\u001b[43m,\u001b[49m\u001b[43m \u001b[49m\u001b[43mimport_format\u001b[49m\u001b[43m \u001b[49m\u001b[38;5;241;43m=\u001b[39;49m\u001b[43m \u001b[49m\u001b[38;5;124;43m\"\u001b[39;49m\u001b[38;5;124;43mdf\u001b[39;49m\u001b[38;5;124;43m\"\u001b[39;49m\u001b[43m)\u001b[49m\n",
      "File \u001b[1;32m~\\Miniconda3\\envs\\transform22\\lib\\site-packages\\redcap\\methods\\records.py:400\u001b[0m, in \u001b[0;36mRecords.import_records\u001b[1;34m(self, to_import, return_format_type, return_content, overwrite, import_format, date_format, force_auto_number)\u001b[0m\n\u001b[0;32m    393\u001b[0m payload[\u001b[38;5;124m\"\u001b[39m\u001b[38;5;124mforceAutoNumber\u001b[39m\u001b[38;5;124m\"\u001b[39m] \u001b[38;5;241m=\u001b[39m force_auto_number\n\u001b[0;32m    395\u001b[0m return_type \u001b[38;5;241m=\u001b[39m \u001b[38;5;28mself\u001b[39m\u001b[38;5;241m.\u001b[39m_lookup_return_type(\n\u001b[0;32m    396\u001b[0m     format_type\u001b[38;5;241m=\u001b[39mreturn_format_type,\n\u001b[0;32m    397\u001b[0m     request_type\u001b[38;5;241m=\u001b[39m\u001b[38;5;124m\"\u001b[39m\u001b[38;5;124mimport\u001b[39m\u001b[38;5;124m\"\u001b[39m,\n\u001b[0;32m    398\u001b[0m     import_records_format\u001b[38;5;241m=\u001b[39mreturn_content,\n\u001b[0;32m    399\u001b[0m )\n\u001b[1;32m--> 400\u001b[0m response \u001b[38;5;241m=\u001b[39m \u001b[38;5;28;43mself\u001b[39;49m\u001b[38;5;241;43m.\u001b[39;49m\u001b[43m_call_api\u001b[49m\u001b[43m(\u001b[49m\u001b[43mpayload\u001b[49m\u001b[43m,\u001b[49m\u001b[43m \u001b[49m\u001b[43mreturn_type\u001b[49m\u001b[43m)\u001b[49m\n\u001b[0;32m    402\u001b[0m \u001b[38;5;28;01mreturn\u001b[39;00m response\n",
      "File \u001b[1;32m~\\Miniconda3\\envs\\transform22\\lib\\site-packages\\redcap\\methods\\base.py:504\u001b[0m, in \u001b[0;36mBase._call_api\u001b[1;34m(self, payload, return_type, file)\u001b[0m\n\u001b[0;32m    501\u001b[0m return_headers \u001b[38;5;241m=\u001b[39m return_type \u001b[38;5;241m==\u001b[39m \u001b[38;5;124m\"\u001b[39m\u001b[38;5;124mfile_map\u001b[39m\u001b[38;5;124m\"\u001b[39m\n\u001b[0;32m    503\u001b[0m rcr \u001b[38;5;241m=\u001b[39m _RCRequest(url\u001b[38;5;241m=\u001b[39m\u001b[38;5;28mself\u001b[39m\u001b[38;5;241m.\u001b[39murl, payload\u001b[38;5;241m=\u001b[39mpayload, config\u001b[38;5;241m=\u001b[39mconfig)\n\u001b[1;32m--> 504\u001b[0m \u001b[38;5;28;01mreturn\u001b[39;00m \u001b[43mrcr\u001b[49m\u001b[38;5;241;43m.\u001b[39;49m\u001b[43mexecute\u001b[49m\u001b[43m(\u001b[49m\n\u001b[0;32m    505\u001b[0m \u001b[43m    \u001b[49m\u001b[43mverify_ssl\u001b[49m\u001b[38;5;241;43m=\u001b[39;49m\u001b[38;5;28;43mself\u001b[39;49m\u001b[38;5;241;43m.\u001b[39;49m\u001b[43mverify_ssl\u001b[49m\u001b[43m,\u001b[49m\u001b[43m \u001b[49m\u001b[43mreturn_headers\u001b[49m\u001b[38;5;241;43m=\u001b[39;49m\u001b[43mreturn_headers\u001b[49m\u001b[43m,\u001b[49m\u001b[43m \u001b[49m\u001b[43mfile\u001b[49m\u001b[38;5;241;43m=\u001b[39;49m\u001b[43mfile\u001b[49m\n\u001b[0;32m    506\u001b[0m \u001b[43m\u001b[49m\u001b[43m)\u001b[49m\n",
      "File \u001b[1;32m~\\Miniconda3\\envs\\transform22\\lib\\site-packages\\redcap\\request.py:204\u001b[0m, in \u001b[0;36m_RCRequest.execute\u001b[1;34m(self, verify_ssl, return_headers, file)\u001b[0m\n\u001b[0;32m    182\u001b[0m \u001b[38;5;124;03m\"\"\"Execute the API request and return data\u001b[39;00m\n\u001b[0;32m    183\u001b[0m \n\u001b[0;32m    184\u001b[0m \u001b[38;5;124;03mArgs:\u001b[39;00m\n\u001b[1;32m   (...)\u001b[0m\n\u001b[0;32m    198\u001b[0m \u001b[38;5;124;03m        exist, field doesn't exist, etc.\u001b[39;00m\n\u001b[0;32m    199\u001b[0m \u001b[38;5;124;03m\"\"\"\u001b[39;00m\n\u001b[0;32m    200\u001b[0m response \u001b[38;5;241m=\u001b[39m \u001b[38;5;28mself\u001b[39m\u001b[38;5;241m.\u001b[39msession\u001b[38;5;241m.\u001b[39mpost(\n\u001b[0;32m    201\u001b[0m     \u001b[38;5;28mself\u001b[39m\u001b[38;5;241m.\u001b[39murl, data\u001b[38;5;241m=\u001b[39m\u001b[38;5;28mself\u001b[39m\u001b[38;5;241m.\u001b[39mpayload, verify\u001b[38;5;241m=\u001b[39mverify_ssl, files\u001b[38;5;241m=\u001b[39mfile\n\u001b[0;32m    202\u001b[0m )\n\u001b[1;32m--> 204\u001b[0m content \u001b[38;5;241m=\u001b[39m \u001b[38;5;28;43mself\u001b[39;49m\u001b[38;5;241;43m.\u001b[39;49m\u001b[43mget_content\u001b[49m\u001b[43m(\u001b[49m\n\u001b[0;32m    205\u001b[0m \u001b[43m    \u001b[49m\u001b[43mresponse\u001b[49m\u001b[43m,\u001b[49m\n\u001b[0;32m    206\u001b[0m \u001b[43m    \u001b[49m\u001b[43mformat_type\u001b[49m\u001b[38;5;241;43m=\u001b[39;49m\u001b[38;5;28;43mself\u001b[39;49m\u001b[38;5;241;43m.\u001b[39;49m\u001b[43mfmt\u001b[49m\u001b[43m,\u001b[49m\n\u001b[0;32m    207\u001b[0m \u001b[43m    \u001b[49m\u001b[43mreturn_empty_json\u001b[49m\u001b[38;5;241;43m=\u001b[39;49m\u001b[38;5;28;43mself\u001b[39;49m\u001b[38;5;241;43m.\u001b[39;49m\u001b[43mconfig\u001b[49m\u001b[38;5;241;43m.\u001b[39;49m\u001b[43mreturn_empty_json\u001b[49m\u001b[43m,\u001b[49m\n\u001b[0;32m    208\u001b[0m \u001b[43m    \u001b[49m\u001b[43mreturn_bytes\u001b[49m\u001b[38;5;241;43m=\u001b[39;49m\u001b[38;5;28;43mself\u001b[39;49m\u001b[38;5;241;43m.\u001b[39;49m\u001b[43mconfig\u001b[49m\u001b[38;5;241;43m.\u001b[39;49m\u001b[43mreturn_bytes\u001b[49m\u001b[43m,\u001b[49m\n\u001b[0;32m    209\u001b[0m \u001b[43m\u001b[49m\u001b[43m)\u001b[49m\n\u001b[0;32m    211\u001b[0m \u001b[38;5;28;01mif\u001b[39;00m \u001b[38;5;28mself\u001b[39m\u001b[38;5;241m.\u001b[39mfmt \u001b[38;5;241m==\u001b[39m \u001b[38;5;124m\"\u001b[39m\u001b[38;5;124mjson\u001b[39m\u001b[38;5;124m\"\u001b[39m:\n\u001b[0;32m    212\u001b[0m     \u001b[38;5;28;01mtry\u001b[39;00m:\n",
      "File \u001b[1;32m~\\Miniconda3\\envs\\transform22\\lib\\site-packages\\redcap\\request.py:153\u001b[0m, in \u001b[0;36m_RCRequest.get_content\u001b[1;34m(response, format_type, return_empty_json, return_bytes)\u001b[0m\n\u001b[0;32m    150\u001b[0m     \u001b[38;5;28;01mreturn\u001b[39;00m [{}]\n\u001b[0;32m    152\u001b[0m \u001b[38;5;28;01mif\u001b[39;00m format_type \u001b[38;5;241m==\u001b[39m \u001b[38;5;124m\"\u001b[39m\u001b[38;5;124mjson\u001b[39m\u001b[38;5;124m\"\u001b[39m:\n\u001b[1;32m--> 153\u001b[0m     \u001b[38;5;28;01mreturn\u001b[39;00m \u001b[43mresponse\u001b[49m\u001b[38;5;241;43m.\u001b[39;49m\u001b[43mjson\u001b[49m\u001b[43m(\u001b[49m\u001b[43m)\u001b[49m\n\u001b[0;32m    155\u001b[0m \u001b[38;5;66;03m# don't do anything to csv/xml strings\u001b[39;00m\n\u001b[0;32m    156\u001b[0m \u001b[38;5;28;01mreturn\u001b[39;00m response\u001b[38;5;241m.\u001b[39mtext\n",
      "File \u001b[1;32m~\\Miniconda3\\envs\\transform22\\lib\\site-packages\\requests\\models.py:899\u001b[0m, in \u001b[0;36mResponse.json\u001b[1;34m(self, **kwargs)\u001b[0m\n\u001b[0;32m    897\u001b[0m \u001b[38;5;28;01mif\u001b[39;00m encoding \u001b[38;5;129;01mis\u001b[39;00m \u001b[38;5;129;01mnot\u001b[39;00m \u001b[38;5;28;01mNone\u001b[39;00m:\n\u001b[0;32m    898\u001b[0m     \u001b[38;5;28;01mtry\u001b[39;00m:\n\u001b[1;32m--> 899\u001b[0m         \u001b[38;5;28;01mreturn\u001b[39;00m complexjson\u001b[38;5;241m.\u001b[39mloads(\n\u001b[0;32m    900\u001b[0m             \u001b[38;5;28mself\u001b[39m\u001b[38;5;241m.\u001b[39mcontent\u001b[38;5;241m.\u001b[39mdecode(encoding), \u001b[38;5;241m*\u001b[39m\u001b[38;5;241m*\u001b[39mkwargs\n\u001b[0;32m    901\u001b[0m         )\n\u001b[0;32m    902\u001b[0m     \u001b[38;5;28;01mexcept\u001b[39;00m \u001b[38;5;167;01mUnicodeDecodeError\u001b[39;00m:\n\u001b[0;32m    903\u001b[0m         \u001b[38;5;66;03m# Wrong UTF codec detected; usually because it's not UTF-8\u001b[39;00m\n\u001b[0;32m    904\u001b[0m         \u001b[38;5;66;03m# but some other 8-bit codec.  This is an RFC violation,\u001b[39;00m\n\u001b[0;32m    905\u001b[0m         \u001b[38;5;66;03m# and the server didn't bother to tell us what codec *was*\u001b[39;00m\n\u001b[0;32m    906\u001b[0m         \u001b[38;5;66;03m# used.\u001b[39;00m\n\u001b[0;32m    907\u001b[0m         \u001b[38;5;28;01mpass\u001b[39;00m\n",
      "File \u001b[1;32m~\\Miniconda3\\envs\\transform22\\lib\\json\\__init__.py:346\u001b[0m, in \u001b[0;36mloads\u001b[1;34m(s, cls, object_hook, parse_float, parse_int, parse_constant, object_pairs_hook, **kw)\u001b[0m\n\u001b[0;32m    341\u001b[0m     s \u001b[38;5;241m=\u001b[39m s\u001b[38;5;241m.\u001b[39mdecode(detect_encoding(s), \u001b[38;5;124m'\u001b[39m\u001b[38;5;124msurrogatepass\u001b[39m\u001b[38;5;124m'\u001b[39m)\n\u001b[0;32m    343\u001b[0m \u001b[38;5;28;01mif\u001b[39;00m (\u001b[38;5;28mcls\u001b[39m \u001b[38;5;129;01mis\u001b[39;00m \u001b[38;5;28;01mNone\u001b[39;00m \u001b[38;5;129;01mand\u001b[39;00m object_hook \u001b[38;5;129;01mis\u001b[39;00m \u001b[38;5;28;01mNone\u001b[39;00m \u001b[38;5;129;01mand\u001b[39;00m\n\u001b[0;32m    344\u001b[0m         parse_int \u001b[38;5;129;01mis\u001b[39;00m \u001b[38;5;28;01mNone\u001b[39;00m \u001b[38;5;129;01mand\u001b[39;00m parse_float \u001b[38;5;129;01mis\u001b[39;00m \u001b[38;5;28;01mNone\u001b[39;00m \u001b[38;5;129;01mand\u001b[39;00m\n\u001b[0;32m    345\u001b[0m         parse_constant \u001b[38;5;129;01mis\u001b[39;00m \u001b[38;5;28;01mNone\u001b[39;00m \u001b[38;5;129;01mand\u001b[39;00m object_pairs_hook \u001b[38;5;129;01mis\u001b[39;00m \u001b[38;5;28;01mNone\u001b[39;00m \u001b[38;5;129;01mand\u001b[39;00m \u001b[38;5;129;01mnot\u001b[39;00m kw):\n\u001b[1;32m--> 346\u001b[0m     \u001b[38;5;28;01mreturn\u001b[39;00m \u001b[43m_default_decoder\u001b[49m\u001b[38;5;241;43m.\u001b[39;49m\u001b[43mdecode\u001b[49m\u001b[43m(\u001b[49m\u001b[43ms\u001b[49m\u001b[43m)\u001b[49m\n\u001b[0;32m    347\u001b[0m \u001b[38;5;28;01mif\u001b[39;00m \u001b[38;5;28mcls\u001b[39m \u001b[38;5;129;01mis\u001b[39;00m \u001b[38;5;28;01mNone\u001b[39;00m:\n\u001b[0;32m    348\u001b[0m     \u001b[38;5;28mcls\u001b[39m \u001b[38;5;241m=\u001b[39m JSONDecoder\n",
      "File \u001b[1;32m~\\Miniconda3\\envs\\transform22\\lib\\json\\decoder.py:337\u001b[0m, in \u001b[0;36mJSONDecoder.decode\u001b[1;34m(self, s, _w)\u001b[0m\n\u001b[0;32m    332\u001b[0m \u001b[38;5;28;01mdef\u001b[39;00m \u001b[38;5;21mdecode\u001b[39m(\u001b[38;5;28mself\u001b[39m, s, _w\u001b[38;5;241m=\u001b[39mWHITESPACE\u001b[38;5;241m.\u001b[39mmatch):\n\u001b[0;32m    333\u001b[0m     \u001b[38;5;124;03m\"\"\"Return the Python representation of ``s`` (a ``str`` instance\u001b[39;00m\n\u001b[0;32m    334\u001b[0m \u001b[38;5;124;03m    containing a JSON document).\u001b[39;00m\n\u001b[0;32m    335\u001b[0m \n\u001b[0;32m    336\u001b[0m \u001b[38;5;124;03m    \"\"\"\u001b[39;00m\n\u001b[1;32m--> 337\u001b[0m     obj, end \u001b[38;5;241m=\u001b[39m \u001b[38;5;28;43mself\u001b[39;49m\u001b[38;5;241;43m.\u001b[39;49m\u001b[43mraw_decode\u001b[49m\u001b[43m(\u001b[49m\u001b[43ms\u001b[49m\u001b[43m,\u001b[49m\u001b[43m \u001b[49m\u001b[43midx\u001b[49m\u001b[38;5;241;43m=\u001b[39;49m\u001b[43m_w\u001b[49m\u001b[43m(\u001b[49m\u001b[43ms\u001b[49m\u001b[43m,\u001b[49m\u001b[43m \u001b[49m\u001b[38;5;241;43m0\u001b[39;49m\u001b[43m)\u001b[49m\u001b[38;5;241;43m.\u001b[39;49m\u001b[43mend\u001b[49m\u001b[43m(\u001b[49m\u001b[43m)\u001b[49m\u001b[43m)\u001b[49m\n\u001b[0;32m    338\u001b[0m     end \u001b[38;5;241m=\u001b[39m _w(s, end)\u001b[38;5;241m.\u001b[39mend()\n\u001b[0;32m    339\u001b[0m     \u001b[38;5;28;01mif\u001b[39;00m end \u001b[38;5;241m!=\u001b[39m \u001b[38;5;28mlen\u001b[39m(s):\n",
      "File \u001b[1;32m~\\Miniconda3\\envs\\transform22\\lib\\json\\decoder.py:355\u001b[0m, in \u001b[0;36mJSONDecoder.raw_decode\u001b[1;34m(self, s, idx)\u001b[0m\n\u001b[0;32m    353\u001b[0m     obj, end \u001b[38;5;241m=\u001b[39m \u001b[38;5;28mself\u001b[39m\u001b[38;5;241m.\u001b[39mscan_once(s, idx)\n\u001b[0;32m    354\u001b[0m \u001b[38;5;28;01mexcept\u001b[39;00m \u001b[38;5;167;01mStopIteration\u001b[39;00m \u001b[38;5;28;01mas\u001b[39;00m err:\n\u001b[1;32m--> 355\u001b[0m     \u001b[38;5;28;01mraise\u001b[39;00m JSONDecodeError(\u001b[38;5;124m\"\u001b[39m\u001b[38;5;124mExpecting value\u001b[39m\u001b[38;5;124m\"\u001b[39m, s, err\u001b[38;5;241m.\u001b[39mvalue) \u001b[38;5;28;01mfrom\u001b[39;00m \u001b[38;5;28mNone\u001b[39m\n\u001b[0;32m    356\u001b[0m \u001b[38;5;28;01mreturn\u001b[39;00m obj, end\n",
      "\u001b[1;31mJSONDecodeError\u001b[0m: Expecting value: line 1 column 1 (char 0)"
     ]
    }
   ],
   "source": [
    "#5) import into dev environment\n",
    "dev278.import_records(df_storage_info, import_format = \"df\")"
   ]
  },
  {
   "cell_type": "code",
   "execution_count": null,
   "id": "d03af2c9-7217-4c93-ba1c-213bf4e58bf5",
   "metadata": {},
   "outputs": [],
   "source": []
  },
  {
   "cell_type": "code",
   "execution_count": null,
   "id": "307b8412-5cb8-4c5f-99a4-e4627a25d864",
   "metadata": {},
   "outputs": [],
   "source": []
  },
  {
   "cell_type": "code",
   "execution_count": null,
   "id": "3c7fbe47-183d-4afd-8a60-07292583b138",
   "metadata": {},
   "outputs": [],
   "source": []
  },
  {
   "cell_type": "code",
   "execution_count": null,
   "id": "b19ce278-3125-4544-9efc-74af8040efa0",
   "metadata": {},
   "outputs": [],
   "source": []
  }
 ],
 "metadata": {
  "kernelspec": {
   "display_name": "Python [conda env:transform22] *",
   "language": "python",
   "name": "conda-env-transform22-py"
  },
  "language_info": {
   "codemirror_mode": {
    "name": "ipython",
    "version": 3
   },
   "file_extension": ".py",
   "mimetype": "text/x-python",
   "name": "python",
   "nbconvert_exporter": "python",
   "pygments_lexer": "ipython3",
   "version": "3.9.12"
  }
 },
 "nbformat": 4,
 "nbformat_minor": 5
}
