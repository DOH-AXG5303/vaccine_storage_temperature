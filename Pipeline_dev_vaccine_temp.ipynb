{
 "cells": [
  {
   "cell_type": "markdown",
   "id": "e6f898bd-1f54-4301-a9d8-367000cda526",
   "metadata": {},
   "source": [
    "# Vaccine Temp pipeline objectives\n",
    "Notes:\n",
    "\n",
    "Report ID = [38,39] [2137, 2111]\n",
    "\n",
    "A:\n",
    "1) export report: \"Export facility info for temperature logs upload\", #38 (2137)\n",
    "2) add field: \"redcap_event_name\" = \"facility_arm_1\", for all records\n",
    "3) add field: \"facility_info_complete\" = 2, for all records\n",
    "4) set field \"redcap_event_name\" as second index\n",
    "5) import into PID278\n",
    "\n",
    "B:\n",
    "1) export report: \"Export storage info for temperature logs upload\", #39 (2111)\n",
    "2) add field: \"redcap_event_name\" = \"month_year_arm_1\", month spelled out, all lower case, 4 digit integer for year\n",
    "3) add field: \"storage_info_complete\" = 2, for all records\n",
    "4) rename columns according to:\n",
    "\n",
    "{\n",
    " \"waiis_fac_name\":\"waiis_fac_name_s\",\n",
    " \"loc_vfc_pin\":\"loc_vfc_pin_s\",\n",
    " \"org_name\":\"org_name_s\"\n",
    " }\n",
    "\n",
    "5) set field \"redcap_event_name\" as second index\n",
    "6) import into PID278\n"
   ]
  },
  {
   "cell_type": "code",
   "execution_count": 1,
   "id": "ae17dfec-adcb-44b9-8059-c27765584d32",
   "metadata": {},
   "outputs": [],
   "source": [
    "import redcap\n"
   ]
  },
  {
   "cell_type": "code",
   "execution_count": 2,
   "id": "f965a775-6094-4d94-be47-7cc65b6b85f4",
   "metadata": {},
   "outputs": [],
   "source": [
    "%run -i -n \"credentials.py\""
   ]
  },
  {
   "cell_type": "code",
   "execution_count": 3,
   "id": "8879ade8-0210-4fd2-816b-dd7d66a73120",
   "metadata": {},
   "outputs": [
    {
     "name": "stdout",
     "output_type": "stream",
     "text": [
      "https://qa-redcap.doh.wa.gov/api/\n",
      "https://redcap.doh.wa.gov/api/\n",
      "['dev_pid100', 'dev_pid278', 'prod_pid100', 'prod_pid278']\n"
     ]
    }
   ],
   "source": [
    "print(dev_url)\n",
    "print(prod_url)\n",
    "\n",
    "print([\"dev_pid100\", \"dev_pid278\", \"prod_pid100\", \"prod_pid278\"])"
   ]
  },
  {
   "cell_type": "code",
   "execution_count": 4,
   "id": "ec93191a-6b3d-4ba7-9ffa-612a0dbb5749",
   "metadata": {},
   "outputs": [],
   "source": [
    "prod100 = redcap.Project(prod_url, prod_pid100)"
   ]
  },
  {
   "cell_type": "markdown",
   "id": "b0dfc7f7-9767-455d-ba43-3b39034e5a85",
   "metadata": {},
   "source": [
    "### Experiment with \"export_survey_fields\" feature"
   ]
  }
 ],
 "metadata": {
  "kernelspec": {
   "display_name": "Python [conda env:transform22] *",
   "language": "python",
   "name": "conda-env-transform22-py"
  },
  "language_info": {
   "codemirror_mode": {
    "name": "ipython",
    "version": 3
   },
   "file_extension": ".py",
   "mimetype": "text/x-python",
   "name": "python",
   "nbconvert_exporter": "python",
   "pygments_lexer": "ipython3",
   "version": "3.9.12"
  }
 },
 "nbformat": 4,
 "nbformat_minor": 5
}
