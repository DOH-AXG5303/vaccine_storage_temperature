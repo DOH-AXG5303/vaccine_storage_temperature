{
 "cells": [
  {
   "cell_type": "markdown",
   "id": "e6f898bd-1f54-4301-a9d8-367000cda526",
   "metadata": {},
   "source": [
    "# Vaccine Temp pipeline objectives\n",
    "Notes:\n",
    "\n",
    "Report ID = [2137, 2111] (report numbers 38 and 39 respectively)\n",
    "\n",
    "A:\n",
    "1) export report: \"Export facility info for temperature logs upload\", #38 (2137)\n",
    "2) Complete 3 transformations\n",
    "    - add field: \"redcap_event_name\" = \"facility_arm_1\", for all records\n",
    "    - add field: \"facility_info_complete\" = 2, for all records\n",
    "    - set field \"redcap_event_name\" as second index\n",
    "3) import into PID278\n",
    "\n",
    "B:\n",
    "1) export report: \"Export storage info for temperature logs upload\", #39 (2111)\n",
    "2) Complete 4 transformations\n",
    "    - add field: \"redcap_event_name\" = \"month_year_arm_1\", month spelled out, all lower case, 4 digit integer for year, global variable\n",
    "    - add field: \"storage_info_complete\" = 2, for all records\n",
    "    - rename columns according to:\n",
    "        {\n",
    "         \"waiis_fac_name\":\"waiis_fac_name_s\",\n",
    "         \"loc_vfc_pin\":\"loc_vfc_pin_s\",\n",
    "         \"org_name\":\"org_name_s\"\n",
    "         }\n",
    "     - set field \"redcap_event_name\" as second index\n",
    "3) import into PID278\n"
   ]
  },
  {
   "cell_type": "code",
   "execution_count": 9,
   "id": "ae17dfec-adcb-44b9-8059-c27765584d32",
   "metadata": {},
   "outputs": [],
   "source": [
    "import redcap"
   ]
  },
  {
   "cell_type": "code",
   "execution_count": 10,
   "id": "59ee224e-37f1-4b64-aaaa-706e070f5e84",
   "metadata": {},
   "outputs": [],
   "source": [
    "from credentials import api_keys #dictionary of 4 api keys: prod_pid100, dev_pid100, prod_pid278, dev_pid278\n",
    "from credentials import dev_url\n",
    "from credentials import prod_url\n",
    "from credentials import unique_event"
   ]
  },
  {
   "cell_type": "code",
   "execution_count": 11,
   "id": "ec93191a-6b3d-4ba7-9ffa-612a0dbb5749",
   "metadata": {},
   "outputs": [],
   "source": [
    "prod100 = redcap.Project(prod_url, api_keys[\"prod_pid100\"])\n",
    "dev278 = redcap.Project(dev_url, api_keys[\"dev_pid278\"])"
   ]
  },
  {
   "cell_type": "markdown",
   "id": "0a7d367c-2915-4507-b51c-a221bda35f31",
   "metadata": {},
   "source": [
    "# A) Report: Export Facility info for temperature logs upload, #38 (2137)"
   ]
  },
  {
   "cell_type": "markdown",
   "id": "b0dfc7f7-9767-455d-ba43-3b39034e5a85",
   "metadata": {},
   "source": [
    "## Export Reports and Transform"
   ]
  },
  {
   "cell_type": "code",
   "execution_count": 17,
   "id": "51117c95-4915-49da-ba07-eba11dcd5d50",
   "metadata": {},
   "outputs": [],
   "source": [
    "def facility_info_transform(df_facility_info):\n",
    "    \"\"\"\n",
    "    A single function to capture 3 transformations of facility_info event\n",
    "    \n",
    "    args:\n",
    "        df_facility_info - dataframe of facility info report (report_id:2137)\n",
    "    return:\n",
    "        Dataframe - transformed dataframe\n",
    "    \"\"\"\n",
    "    df_facility_info = df_facility_info.copy()\n",
    "    \n",
    "    # Create new event field, set all values to \"facility_arm_1\"\n",
    "    df_facility_info[\"redcap_event_name\"] = \"facility_arm_1\"\n",
    "    # Create new field for complete/incomplete tag, and set all values to 2\n",
    "    df_facility_info[\"facility_info_complete\"] = 2\n",
    "    # Move \"redcap_event_name\" to first column in prep for import\n",
    "    col = df_facility_info.pop(\"redcap_event_name\")\n",
    "    df_facility_info.insert(0, col.name, col)\n",
    "    \n",
    "    return df_facility_info"
   ]
  },
  {
   "cell_type": "code",
   "execution_count": 18,
   "id": "4e911029-a4cf-4085-adc5-d5ae5b41013f",
   "metadata": {},
   "outputs": [],
   "source": [
    "# 1)Export Report #38 prod\n",
    "df_facility_info = prod100.export_report(report_id=2137 ,format_type = \"df\")"
   ]
  },
  {
   "cell_type": "code",
   "execution_count": 19,
   "id": "c450c0ff-ccb2-45cc-8539-eb0cdf6fe214",
   "metadata": {},
   "outputs": [],
   "source": [
    "# 2) complete several transformations\n",
    "df_facility_info = facility_info_transform(df_facility_info)"
   ]
  },
  {
   "cell_type": "code",
   "execution_count": 20,
   "id": "0aded955-9601-45a4-97ca-58feeb2cc2b9",
   "metadata": {},
   "outputs": [
    {
     "data": {
      "text/plain": [
       "{'count': 1737}"
      ]
     },
     "execution_count": 20,
     "metadata": {},
     "output_type": "execute_result"
    }
   ],
   "source": [
    "# 3) import into dev environment\n",
    "dev278.import_records(df_facility_info, import_format = \"df\")"
   ]
  },
  {
   "cell_type": "markdown",
   "id": "f9e45c99-cc56-49a2-9982-1a85c7d42e12",
   "metadata": {},
   "source": [
    "# B) Report: Export storage info for temperature logs upload: #39 (2111)"
   ]
  },
  {
   "cell_type": "markdown",
   "id": "2c41d5c8-dff2-4864-a17a-27b3a8bcac90",
   "metadata": {},
   "source": [
    "## Export Reports and Transform"
   ]
  },
  {
   "cell_type": "code",
   "execution_count": 12,
   "id": "27ffabaa-f3a0-481c-897f-01849787fb67",
   "metadata": {},
   "outputs": [],
   "source": [
    "def storage_info_transform(df_storage_info):\n",
    "    \"\"\"\n",
    "    A single function to capture 5 transformations of storage_info event\n",
    "    \n",
    "    args:\n",
    "        df_storage_info - dataframe of storage info report (report_id:2111)\n",
    "    return:\n",
    "        Dataframe - transformed dataframe\n",
    "    \"\"\"\n",
    "    \n",
    "    df_storage_info = df_storage_info.copy()\n",
    "    \n",
    "    # Create new event field, set all values to \"facility_arm_1\"\n",
    "    df_storage_info[\"redcap_event_name\"] = unique_event\n",
    "    # Create new field for complete/incomplete tag, and set all values to 2\n",
    "    df_storage_info[\"storage_info_complete\"] = 2\n",
    "    # Rename columns \n",
    "    mapper = {\"waiis_fac_name\":\"waiis_fac_name_s\", \n",
    "                 \"loc_vfc_pin\":\"loc_vfc_pin_s\",\n",
    "                 \"org_name\":\"org_name_s\" }\n",
    "    df_storage_info = df_storage_info.rename(columns = mapper)\n",
    "    # move \"redcap_event_name\" to first column in prep for import\n",
    "    col = df_storage_info.pop(\"redcap_event_name\")\n",
    "    df_storage_info.insert(0, col.name, col)\n",
    "    # conver float fields to int\n",
    "    float_fields = df_storage_info.dtypes[df_storage_info.dtypes == float].index\n",
    "    df_storage_info.loc[:, float_fields] = df_storage_info.loc[:, float_fields].astype(\"Int64\")\n",
    "    \n",
    "    return df_storage_info"
   ]
  },
  {
   "cell_type": "code",
   "execution_count": 13,
   "id": "1eff07ef-cd8c-4510-8ef6-1199a185ded5",
   "metadata": {},
   "outputs": [],
   "source": [
    "# 1)Export Report #38 prod\n",
    "df_storage_info = prod100.export_report(report_id = 2111 ,format_type = \"df\")"
   ]
  },
  {
   "cell_type": "code",
   "execution_count": 14,
   "id": "bb383935-1a3f-48e2-835d-c1d111f529a3",
   "metadata": {},
   "outputs": [],
   "source": [
    "# 2) Complete transformation\n",
    "df_storage_info = storage_info_transform(df_storage_info)"
   ]
  },
  {
   "cell_type": "code",
   "execution_count": 16,
   "id": "6adadae9-83e9-4a5a-b9ba-d33679eb620c",
   "metadata": {},
   "outputs": [
    {
     "data": {
      "text/plain": [
       "{'count': 1737}"
      ]
     },
     "execution_count": 16,
     "metadata": {},
     "output_type": "execute_result"
    }
   ],
   "source": [
    "#3) import into dev environment\n",
    "dev278.import_records(df_storage_info, import_format = \"df\")"
   ]
  },
  {
   "cell_type": "code",
   "execution_count": null,
   "id": "8af0dbce-68f6-402b-ab2a-c5a3afc1a2c5",
   "metadata": {},
   "outputs": [],
   "source": []
  }
 ],
 "metadata": {
  "kernelspec": {
   "display_name": "Python [conda env:transform22] *",
   "language": "python",
   "name": "conda-env-transform22-py"
  },
  "language_info": {
   "codemirror_mode": {
    "name": "ipython",
    "version": 3
   },
   "file_extension": ".py",
   "mimetype": "text/x-python",
   "name": "python",
   "nbconvert_exporter": "python",
   "pygments_lexer": "ipython3",
   "version": "3.9.12"
  }
 },
 "nbformat": 4,
 "nbformat_minor": 5
}
