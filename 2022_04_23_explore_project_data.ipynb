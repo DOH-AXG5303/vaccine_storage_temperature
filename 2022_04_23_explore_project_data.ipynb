{
 "cells": [
  {
   "cell_type": "markdown",
   "id": "0833531c-4922-4ef8-bccd-15e8a9af49f1",
   "metadata": {},
   "source": [
    "# Export project data from Prod to QA for pipeline testing\n",
    "\n",
    "Production PID's: 100, 278\n",
    "\n",
    "QA PID's: Copies of above PID's: 75, 74"
   ]
  },
  {
   "cell_type": "code",
   "execution_count": 177,
   "id": "7c4273e1-f0de-4eb4-ba8e-93544691a18b",
   "metadata": {},
   "outputs": [],
   "source": [
    "import redcap"
   ]
  },
  {
   "cell_type": "code",
   "execution_count": 179,
   "id": "5927ce92-acda-4f24-be2f-2e878ca15a90",
   "metadata": {},
   "outputs": [
    {
     "name": "stdout",
     "output_type": "stream",
     "text": [
      "https://qa-redcap.doh.wa.gov/api/\n",
      "https://redcap.doh.wa.gov/api/\n",
      "['dev_pid100', 'dev_pid278', 'prod_pid100', 'prod_pid278']\n"
     ]
    }
   ],
   "source": [
    "#API URL and API keys import\n",
    "%run -i -n \"credentials.py\"\n",
    "\n",
    "print(dev_url)\n",
    "print(prod_url)\n",
    "print([\"dev_pid100\", \"dev_pid278\", \"prod_pid100\", \"prod_pid278\"])"
   ]
  },
  {
   "cell_type": "code",
   "execution_count": 180,
   "id": "b0ae02d5-fa6e-4e45-978d-1fa965cf4c7d",
   "metadata": {},
   "outputs": [],
   "source": [
    "#Create Project objects\n",
    "prod100 = redcap.Project(prod_url, prod_pid100)\n",
    "prod278 = redcap.Project(prod_url, prod_pid278)\n",
    "\n",
    "dev100 = redcap.Project(dev_url, dev_pid100)\n",
    "dev278 = redcap.Project(dev_url, dev_pid278)"
   ]
  },
  {
   "cell_type": "markdown",
   "id": "387dec60-795e-4290-b974-c046dcd5007c",
   "metadata": {},
   "source": [
    "## Explore PID100 Dataset, Export Text Fields to QA"
   ]
  },
  {
   "cell_type": "code",
   "execution_count": 4,
   "id": "9c796bc1-141e-4604-b910-97bc63fdf62e",
   "metadata": {},
   "outputs": [
    {
     "name": "stderr",
     "output_type": "stream",
     "text": [
      "C:\\Users\\AXG5303\\Miniconda3\\envs\\transform22\\lib\\site-packages\\redcap\\methods\\base.py:137: DtypeWarning: Columns (397) have mixed types. Specify dtype option on import or set low_memory=False.\n",
      "  dataframe = pd.read_csv(buf, **df_kwargs)\n"
     ]
    }
   ],
   "source": [
    "prod100_df = prod100.export_records(format_type = \"df\", raw_or_label = \"raw\")\n",
    "p100meta = prod100.export_metadata(format_type = \"df\")\n",
    "p100meta.drop(\"record_id\", inplace = True) #remove \"record_id\" from metadata (this is REDCap index)"
   ]
  },
  {
   "cell_type": "code",
   "execution_count": 5,
   "id": "94c27b9f-0d57-49e1-bc14-eb51acedbf8f",
   "metadata": {},
   "outputs": [],
   "source": [
    "#import 500 rows of all fields that are \"text\" type\n",
    "filt_txt = p100meta[\"field_type\"] == \"text\"\n",
    "fields_txt = set(p100meta[filt_txt].index)"
   ]
  },
  {
   "cell_type": "code",
   "execution_count": 6,
   "id": "c8ed3ae5-c1a2-4b6f-9f6b-a2dc97092a7e",
   "metadata": {},
   "outputs": [
    {
     "name": "stdout",
     "output_type": "stream",
     "text": [
      "257\n",
      "257\n"
     ]
    },
    {
     "data": {
      "text/plain": [
       "True"
      ]
     },
     "execution_count": 6,
     "metadata": {},
     "output_type": "execute_result"
    }
   ],
   "source": [
    "#verify txt fields are the same length with the intersection of txt fields\n",
    "print(len(fields_txt))\n",
    "print(len(fields_txt & set(prod100_df.columns)))\n",
    "\n",
    "#verify that all txt fields exist in dataset \n",
    "common = fields_txt & set(prod100_df.columns)\n",
    "common == fields_txt"
   ]
  },
  {
   "cell_type": "code",
   "execution_count": 7,
   "id": "b608acda-716c-4b8c-97de-d04ca32bcaf0",
   "metadata": {},
   "outputs": [],
   "source": [
    "#first 500 rows, and all text fields\n",
    "df_import_txt = prod100_df.iloc[0:500,:].loc[:, list(fields_txt)].copy()"
   ]
  },
  {
   "cell_type": "code",
   "execution_count": 8,
   "id": "dccdc0d2-ba4d-4e8c-8e63-9101ca406417",
   "metadata": {},
   "outputs": [],
   "source": [
    "#Convert all float type columns that are defined as text fields in redcap, into Int64 type\n",
    "floating = df_import_txt.dtypes == np.floating\n",
    "df_import_txt.loc[:, floating] = df_import_txt.loc[:, floating].astype(\"Int64\")"
   ]
  },
  {
   "cell_type": "code",
   "execution_count": 9,
   "id": "dc2b8d1d-a9d7-4830-8992-46be93dd3f63",
   "metadata": {},
   "outputs": [
    {
     "data": {
      "text/plain": [
       "{'count': 500}"
      ]
     },
     "execution_count": 9,
     "metadata": {},
     "output_type": "execute_result"
    }
   ],
   "source": [
    "dev100.import_records(df_import_txt, import_format = \"df\")"
   ]
  },
  {
   "cell_type": "markdown",
   "id": "aeb8c82c-dcc1-407a-967c-55882379563d",
   "metadata": {},
   "source": [
    "## Explore PID100 Dataset, Export radio fields to QA"
   ]
  },
  {
   "cell_type": "code",
   "execution_count": 10,
   "id": "494c2ddb-5988-4c35-9c64-f5ee479e2aff",
   "metadata": {},
   "outputs": [
    {
     "data": {
      "text/plain": [
       "text           257\n",
       "descriptive     83\n",
       "radio           57\n",
       "file            30\n",
       "dropdown        27\n",
       "yesno           24\n",
       "notes            8\n",
       "checkbox         5\n",
       "Name: field_type, dtype: int64"
      ]
     },
     "execution_count": 10,
     "metadata": {},
     "output_type": "execute_result"
    }
   ],
   "source": [
    "p100meta[\"field_type\"].value_counts()"
   ]
  },
  {
   "cell_type": "code",
   "execution_count": 87,
   "id": "b4429f71-c7c0-4485-8f71-9552ca8ee0f2",
   "metadata": {},
   "outputs": [
    {
     "name": "stdout",
     "output_type": "stream",
     "text": [
      "57\n",
      "57\n"
     ]
    }
   ],
   "source": [
    "meta_groups = p100meta.groupby(\"field_type\")\n",
    "fields_radio = meta_groups.get_group(\"radio\").index\n",
    "\n",
    "#verify all columns exist within dataframe\n",
    "print(len(fields_radio))\n",
    "print(len(set(fields_radio) & set(prod100_df.columns)))"
   ]
  },
  {
   "cell_type": "code",
   "execution_count": 78,
   "id": "bb241c6e-5077-45d3-9925-0d9607868dae",
   "metadata": {},
   "outputs": [],
   "source": [
    "df_import_radio = prod100_df.iloc[0:500,:].loc[:, list(fields_radio)].copy()\n",
    "\n",
    "#changing float dtypes to Int\n",
    "floating_radio = df_import_radio.dtypes == np.floating\n",
    "df_import_radio.loc[:, floating_radio] = df_import_radio.loc[:, floating_radio].astype(\"Int64\")"
   ]
  },
  {
   "cell_type": "code",
   "execution_count": 82,
   "id": "db26032e-9e82-482f-8b71-df6522bb566f",
   "metadata": {},
   "outputs": [
    {
     "data": {
      "text/plain": [
       "{'count': 500}"
      ]
     },
     "execution_count": 82,
     "metadata": {},
     "output_type": "execute_result"
    }
   ],
   "source": [
    "dev100.import_records(df_import_radio, import_format = \"df\")"
   ]
  },
  {
   "cell_type": "markdown",
   "id": "4e475dbf-ac05-49b0-ac00-6e24684403af",
   "metadata": {},
   "source": [
    "## Explore PID100 Dataset, Export radio fields to QA\n",
    "\n",
    "file fields are exported as str names of the uploaded files. Will not export these fields."
   ]
  },
  {
   "cell_type": "code",
   "execution_count": 98,
   "id": "62b76bf1-fb03-42db-92aa-cdd0a0dc0b39",
   "metadata": {},
   "outputs": [],
   "source": [
    "fields_file = meta_groups.get_group(\"file\").index"
   ]
  },
  {
   "cell_type": "code",
   "execution_count": 104,
   "id": "4c67e7ae-ed50-405f-ad86-02c083ca6fba",
   "metadata": {},
   "outputs": [
    {
     "name": "stdout",
     "output_type": "stream",
     "text": [
      "30\n",
      "30\n"
     ]
    }
   ],
   "source": [
    "print(len(fields_file))\n",
    "print(len(set(prod100_df.columns) & set(fields_file)))"
   ]
  },
  {
   "cell_type": "code",
   "execution_count": null,
   "id": "b011b1c8-6879-4417-a6fa-b40084542908",
   "metadata": {},
   "outputs": [],
   "source": [
    "prod100_df.loc[:, list(fields_file)]"
   ]
  },
  {
   "cell_type": "markdown",
   "id": "da780939-65b7-479d-a04e-f5b0de8ee1ac",
   "metadata": {},
   "source": [
    "## Explore PID100 Dataset, Export dropdown fields to QA\n",
    "\n"
   ]
  },
  {
   "cell_type": "code",
   "execution_count": 106,
   "id": "2b9c8c94-485e-4acf-a72a-99be9c07d649",
   "metadata": {},
   "outputs": [],
   "source": [
    "fields_dropdown = meta_groups.get_group(\"dropdown\").index"
   ]
  },
  {
   "cell_type": "code",
   "execution_count": 108,
   "id": "0cd08509-40ce-4c29-89bd-80919068acbd",
   "metadata": {},
   "outputs": [
    {
     "name": "stdout",
     "output_type": "stream",
     "text": [
      "27\n",
      "27\n"
     ]
    }
   ],
   "source": [
    "print(len(fields_dropdown))\n",
    "print(len(set(prod100_df.columns) & set(fields_dropdown)))"
   ]
  },
  {
   "cell_type": "code",
   "execution_count": 154,
   "id": "0494ed6f-fdf6-4db9-a706-897ca0bce7bf",
   "metadata": {},
   "outputs": [],
   "source": [
    "df_import_dropdown = prod100_df.iloc[0:500,:].loc[:, list(fields_dropdown)].copy()\n",
    "\n",
    "#changing float dtypes to Int\n",
    "floating_dropdown = df_import_dropdown.dtypes == np.floating\n",
    "df_import_dropdown.loc[:, floating_dropdown] = df_import_dropdown.loc[:, floating_dropdown].astype(\"Int64\")"
   ]
  },
  {
   "cell_type": "code",
   "execution_count": 155,
   "id": "31b4b6fc-9009-478e-b29b-c52a90d75acd",
   "metadata": {},
   "outputs": [
    {
     "data": {
      "text/plain": [
       "King            131\n",
       "Pierce           83\n",
       "Spokane          41\n",
       "Snohomish        39\n",
       "Thurston         23\n",
       "Kitsap           23\n",
       "Whatcom          16\n",
       "Yakima           14\n",
       "Lewis            12\n",
       "Skagit           10\n",
       "Benton            8\n",
       "Okanogan          8\n",
       "Grant             8\n",
       "Clark             8\n",
       "Clallam           7\n",
       "Pacific           6\n",
       "Chelan            5\n",
       "Island            5\n",
       "Grays_Harbor      5\n",
       "Mason             5\n",
       "Klickitat         4\n",
       "Lincoln           4\n",
       "Whitman           3\n",
       "Kittitas          3\n",
       "Stevens           2\n",
       "Franklin          2\n",
       "Walla_Walla       2\n",
       "Jefferson         2\n",
       "San_Juan          2\n",
       "Cowlitz           1\n",
       "Wahkiakum         1\n",
       "Ferry             1\n",
       "Skamania          1\n",
       "Pend_Oreille      1\n",
       "Asotin            1\n",
       "Adams             1\n",
       "Columbia          1\n",
       "Douglas           1\n",
       "Name: org_wa_county, dtype: int64"
      ]
     },
     "execution_count": 155,
     "metadata": {},
     "output_type": "execute_result"
    }
   ],
   "source": [
    "#renaming values from raw to coded, why do some fields import raw values and some fields import on labels???\n",
    "org_wa_county = {\"Pend_Orielle\": \"Pend_Oreille\"}\n",
    "df_import_dropdown[\"org_wa_county\"] = df_import_dropdown[\"org_wa_county\"].replace(org_wa_county)\n",
    "\n",
    "df_import_dropdown[\"org_wa_county\"].value_counts()\n"
   ]
  },
  {
   "cell_type": "code",
   "execution_count": 159,
   "id": "301b0ac0-0288-40d9-b2d1-91c185a09b0f",
   "metadata": {},
   "outputs": [],
   "source": [
    "df_import_dropdown[[\"org_wa_county\",\"org_cmo_county\", \"org_ceo_county\"]] = df_import_dropdown[[\"org_wa_county\",\"org_cmo_county\", \"org_ceo_county\"]].replace(org_wa_county)"
   ]
  },
  {
   "cell_type": "code",
   "execution_count": 163,
   "id": "87790411-776c-48ea-ae66-e0c16b8515f9",
   "metadata": {},
   "outputs": [
    {
     "data": {
      "text/plain": [
       "org_wa_county  org_cmo_county  org_ceo_county\n",
       "King           King            King              36\n",
       "Pierce         Pierce          Pierce            16\n",
       "Spokane        Spokane         Spokane           13\n",
       "Snohomish      Snohomish       Snohomish         11\n",
       "Whatcom        Whatcom         Whatcom            9\n",
       "Yakima         Yakima          Yakima             8\n",
       "Thurston       Thurston        Thurston           8\n",
       "Skagit         Skagit          Skagit             7\n",
       "Kitsap         Kitsap          Kitsap             6\n",
       "Clallam        Clallam         Clallam            5\n",
       "Grant          Grant           Grant              5\n",
       "Lewis          Lewis           Lewis              5\n",
       "Chelan         Chelan          Chelan             4\n",
       "Island         Island          Island             4\n",
       "Whitman        Whitman         Whitman            3\n",
       "Lincoln        Lincoln         Lincoln            3\n",
       "Pacific        Pacific         Pacific            3\n",
       "King           Snohomish       Snohomish          2\n",
       "Pierce         King            Pierce             2\n",
       "Kittitas       Kittitas        Kittitas           2\n",
       "San_Juan       San_Juan        San_Juan           2\n",
       "Grays_Harbor   Grays_Harbor    Grays_Harbor       2\n",
       "Spokane        Thurston        Thurston           2\n",
       "Stevens        Stevens         Stevens            2\n",
       "Okanogan       Okanogan        Okanogan           2\n",
       "Clark          Clark           Clark              2\n",
       "Benton         Benton          Benton             2\n",
       "Klickitat      Klickitat       Klickitat          2\n",
       "Spokane        Snohomish       Snohomish          2\n",
       "Columbia       Columbia        Columbia           1\n",
       "Thurston       Pierce          Pierce             1\n",
       "Snohomish      Whatcom         Whatcom            1\n",
       "Walla_Walla    Walla_Walla     Walla_Walla        1\n",
       "Spokane        Stevens         Stevens            1\n",
       "Cowlitz        King            Clark              1\n",
       "Grant          Adams           Adams              1\n",
       "Snohomish      Whatcom         Snohomish          1\n",
       "Ferry          Ferry           Ferry              1\n",
       "Skamania       Snohomish       Skamania           1\n",
       "Pierce         Spokane         Spokane            1\n",
       "               Kitsap          Pierce             1\n",
       "               King            King               1\n",
       "Pend_Oreille   Pend_Oreille    Pend_Oreille       1\n",
       "Asotin         Asotin          Asotin             1\n",
       "Mason          Mason           Mason              1\n",
       "Jefferson      Jefferson       Jefferson          1\n",
       "King           Grant           King               1\n",
       "Adams          Adams           Adams              1\n",
       "dtype: int64"
      ]
     },
     "execution_count": 163,
     "metadata": {},
     "output_type": "execute_result"
    }
   ],
   "source": [
    "df_import_dropdown[[\"org_wa_county\",\"org_cmo_county\", \"org_ceo_county\"]].value_counts()"
   ]
  },
  {
   "cell_type": "code",
   "execution_count": 162,
   "id": "7625ea03-066d-4c32-8ac3-cd7f8687f20f",
   "metadata": {},
   "outputs": [
    {
     "data": {
      "text/plain": [
       "{'count': 500}"
      ]
     },
     "execution_count": 162,
     "metadata": {},
     "output_type": "execute_result"
    }
   ],
   "source": [
    "dev100.import_records(df_import_dropdown, import_format = \"df\")"
   ]
  },
  {
   "cell_type": "markdown",
   "id": "49e7decd-4c84-4982-a0c3-3eef74d86723",
   "metadata": {},
   "source": [
    "## Explore PID100 Dataset, Export yes/no fields to QA\n"
   ]
  },
  {
   "cell_type": "code",
   "execution_count": 167,
   "id": "d196fb0a-82c9-49ba-9413-2da14a7ba59e",
   "metadata": {},
   "outputs": [
    {
     "name": "stdout",
     "output_type": "stream",
     "text": [
      "24\n",
      "24\n"
     ]
    }
   ],
   "source": [
    "fields_yesno = meta_groups.get_group(\"yesno\").index\n",
    "\n",
    "#verify all columns exist within dataframe\n",
    "print(len(fields_yesno))\n",
    "print(len(set(fields_yesno) & set(prod100_df.columns)))"
   ]
  },
  {
   "cell_type": "code",
   "execution_count": 171,
   "id": "11fcaf82-c910-4027-ac5e-8814d935cdb6",
   "metadata": {},
   "outputs": [],
   "source": [
    "df_import_yesno = prod100_df.iloc[0:500,:].loc[:, list(fields_yesno)].copy()"
   ]
  },
  {
   "cell_type": "code",
   "execution_count": 174,
   "id": "09d1d539-035f-4d82-85db-229ad543e89d",
   "metadata": {},
   "outputs": [],
   "source": [
    "df_import_yesno = df_import_yesno.astype(\"Int64\")"
   ]
  },
  {
   "cell_type": "code",
   "execution_count": 186,
   "id": "8d17ea2b-a0f8-4037-a114-35603adb9165",
   "metadata": {},
   "outputs": [
    {
     "data": {
      "text/plain": [
       "{'count': 500}"
      ]
     },
     "execution_count": 186,
     "metadata": {},
     "output_type": "execute_result"
    }
   ],
   "source": [
    "dev100.import_records(df_import_yesno, import_format = \"df\")"
   ]
  },
  {
   "cell_type": "markdown",
   "id": "25d980c5-eabd-4981-94c9-2cdb0f4e1865",
   "metadata": {},
   "source": [
    "## Explore PID100 Dataset, Export Notes and Checkboxes fields to QA"
   ]
  },
  {
   "cell_type": "code",
   "execution_count": 187,
   "id": "9bb49f85-e2b0-4017-a9a7-e06c4f3b3189",
   "metadata": {},
   "outputs": [
    {
     "name": "stdout",
     "output_type": "stream",
     "text": [
      "8\n",
      "8\n"
     ]
    }
   ],
   "source": [
    "fields_notes = meta_groups.get_group(\"notes\").index\n",
    "\n",
    "#verify all columns exist within dataframe\n",
    "print(len(fields_notes))\n",
    "print(len(set(fields_notes) & set(prod100_df.columns)))"
   ]
  },
  {
   "cell_type": "code",
   "execution_count": 261,
   "id": "417a1242-1b52-4ad9-9847-362c45e60aaa",
   "metadata": {},
   "outputs": [],
   "source": [
    "df_import_notes = prod100_df.iloc[0:500,:].loc[:, list(fields_notes)].copy()"
   ]
  },
  {
   "cell_type": "code",
   "execution_count": null,
   "id": "920f312d-b5cc-438f-acfc-e9e175acd65b",
   "metadata": {},
   "outputs": [],
   "source": [
    "dev100.import_records(df_import_notes, import_format = \"df\")"
   ]
  },
  {
   "cell_type": "markdown",
   "id": "5c0e82d0-a050-4676-b1d5-098ffb8d7f1d",
   "metadata": {},
   "source": [
    "## Explore PID100 Dataset, Export Notes and Checkboxes fields to QA"
   ]
  },
  {
   "cell_type": "code",
   "execution_count": 250,
   "id": "56e6443b-79d5-4e94-8145-35c2a65ce123",
   "metadata": {},
   "outputs": [
    {
     "name": "stdout",
     "output_type": "stream",
     "text": [
      "5\n",
      "0\n"
     ]
    }
   ],
   "source": [
    "fields_checkbox_orig = meta_groups.get_group(\"checkbox\").index\n",
    "\n",
    "#verify all columns exist within dataframe\n",
    "print(len(fields_checkbox_orig))\n",
    "print(len(set(fields_checkbox_orig) & set(prod100_df.columns)))"
   ]
  },
  {
   "cell_type": "code",
   "execution_count": 257,
   "id": "2955f00a-dd5d-490e-990f-29e78e4af985",
   "metadata": {},
   "outputs": [],
   "source": [
    "fields_checkbox = list(fields_checkbox_orig + \"__\")\n",
    "a = \"|\".join(fields_checkbox)\n",
    "b = prod100_df.columns.str.contains(a)\n",
    "\n",
    "df_import_checkbox = prod100_df.iloc[0:500,:].loc[:, list(prod100_df.columns[b])].copy()"
   ]
  },
  {
   "cell_type": "code",
   "execution_count": 259,
   "id": "7cca23c5-f159-4734-9ba5-1d5613f54ded",
   "metadata": {},
   "outputs": [
    {
     "data": {
      "text/plain": [
       "{'count': 500}"
      ]
     },
     "execution_count": 259,
     "metadata": {},
     "output_type": "execute_result"
    }
   ],
   "source": [
    "dev100.import_records(df_import_checkbox, import_format = \"df\")"
   ]
  },
  {
   "cell_type": "code",
   "execution_count": null,
   "id": "6d836cef-aeed-4fca-81ec-c0dee2b602a5",
   "metadata": {},
   "outputs": [],
   "source": []
  },
  {
   "cell_type": "code",
   "execution_count": null,
   "id": "f7a0b77f-e809-4d22-a85e-2d954d69adba",
   "metadata": {},
   "outputs": [],
   "source": []
  },
  {
   "cell_type": "code",
   "execution_count": null,
   "id": "607b7226-c64d-45eb-af79-c835c17009c7",
   "metadata": {},
   "outputs": [],
   "source": []
  },
  {
   "cell_type": "code",
   "execution_count": null,
   "id": "fda0d913-0cc1-42d4-ac16-6e2948f2a960",
   "metadata": {},
   "outputs": [],
   "source": []
  }
 ],
 "metadata": {
  "kernelspec": {
   "display_name": "Python [conda env:transform22] *",
   "language": "python",
   "name": "conda-env-transform22-py"
  },
  "language_info": {
   "codemirror_mode": {
    "name": "ipython",
    "version": 3
   },
   "file_extension": ".py",
   "mimetype": "text/x-python",
   "name": "python",
   "nbconvert_exporter": "python",
   "pygments_lexer": "ipython3",
   "version": "3.9.12"
  }
 },
 "nbformat": 4,
 "nbformat_minor": 5
}
