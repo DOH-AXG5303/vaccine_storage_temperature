{
 "cells": [
  {
   "cell_type": "code",
   "execution_count": 1,
   "id": "7c4273e1-f0de-4eb4-ba8e-93544691a18b",
   "metadata": {},
   "outputs": [],
   "source": [
    "import redcap\n"
   ]
  },
  {
   "cell_type": "code",
   "execution_count": 2,
   "id": "5927ce92-acda-4f24-be2f-2e878ca15a90",
   "metadata": {},
   "outputs": [
    {
     "name": "stdout",
     "output_type": "stream",
     "text": [
      "https://qa-redcap.doh.wa.gov/api/\n",
      "https://redcap.doh.wa.gov/api/\n",
      "['dev_pid100', 'dev_pid278', 'prod_pid100', 'prod_pid278']\n"
     ]
    }
   ],
   "source": [
    "%run -i -n \"credentials.py\"\n",
    "\n",
    "print(dev_url)\n",
    "print(prod_url)\n",
    "print([\"dev_pid100\", \"dev_pid278\", \"prod_pid100\", \"prod_pid278\"])"
   ]
  },
  {
   "cell_type": "code",
   "execution_count": 3,
   "id": "b0ae02d5-fa6e-4e45-978d-1fa965cf4c7d",
   "metadata": {},
   "outputs": [],
   "source": [
    "prod100 = redcap.Project(prod_url, prod_pid100)\n",
    "prod278 = redcap.Project(prod_url, prod_pid278)\n",
    "\n",
    "dev100 = redcap.Project(dev_url, dev_pid100)\n",
    "dev278 = redcap.Project(dev_url, dev_pid278)"
   ]
  },
  {
   "cell_type": "code",
   "execution_count": 57,
   "id": "9c796bc1-141e-4604-b910-97bc63fdf62e",
   "metadata": {},
   "outputs": [
    {
     "name": "stderr",
     "output_type": "stream",
     "text": [
      "C:\\Users\\AXG5303\\Miniconda3\\envs\\transform22\\lib\\site-packages\\redcap\\methods\\base.py:137: DtypeWarning: Columns (397) have mixed types. Specify dtype option on import or set low_memory=False.\n",
      "  dataframe = pd.read_csv(buf, **df_kwargs)\n"
     ]
    }
   ],
   "source": [
    "prod100_df = prod100.export_records(format_type = \"df\", raw_or_label = \"raw\")"
   ]
  },
  {
   "cell_type": "code",
   "execution_count": 64,
   "id": "2a88c7d9-fbe1-4f79-841a-57a686adf5fb",
   "metadata": {},
   "outputs": [
    {
     "data": {
      "text/plain": [
       "provider_yn                                float64\n",
       "inq_org_name                                object\n",
       "inq_fac_name                                object\n",
       "inq_fac_street                              object\n",
       "inq_fac_city                                object\n",
       "inq_fac_state                               object\n",
       "inq_fac_zip                                float64\n",
       "inq_contact_fname                           object\n",
       "inq_contact_lname                           object\n",
       "inq_contact_phone                           object\n",
       "inq_contact_ext                            float64\n",
       "inq_contact_email                           object\n",
       "inquiry_enrollment_survey_complete           int64\n",
       "inq_in_iis                                 float64\n",
       "inq_iis_notes                               object\n",
       "inq_valid                                  float64\n",
       "inq_vm_notes                                object\n",
       "send_survey                                float64\n",
       "send_rejectionletter                       float64\n",
       "inquiry_review_form_complete                 int64\n",
       "provider_interest                          float64\n",
       "prescreening_survey_complete                 int64\n",
       "org_name                                    object\n",
       "org_phone                                   object\n",
       "org_email                                   object\n",
       "                                            ...   \n",
       "coc_review_4                               float64\n",
       "hours_review2                              float64\n",
       "hours_review                               float64\n",
       "need_ddl                                   float64\n",
       "num_ddl                                    float64\n",
       "num_ddl_freezer                            float64\n",
       "ddl_shipped                                float64\n",
       "approval_status                            float64\n",
       "approval_status_freezer                    float64\n",
       "approval_status_ultracold                  float64\n",
       "need_ord_set                               float64\n",
       "type_ord_set___1                             int64\n",
       "type_ord_set___2                             int64\n",
       "type_ord_set___3                             int64\n",
       "fac_add_vtrcks                             float64\n",
       "vm_approved                                float64\n",
       "org_date_application_dispositioned          object\n",
       "loc_vtrcks_id                               object\n",
       "loc_vfc_pin                                 object\n",
       "org_covid_id                                object\n",
       "loc_covid_id                                object\n",
       "vm_complete                                float64\n",
       "vfc_notes                                   object\n",
       "redistribution                              object\n",
       "vaccine_management_team_review_complete      int64\n",
       "Length: 471, dtype: object"
      ]
     },
     "execution_count": 64,
     "metadata": {},
     "output_type": "execute_result"
    }
   ],
   "source": [
    "prod100_df.dtypes"
   ]
  },
  {
   "cell_type": "code",
   "execution_count": null,
   "id": "83cdd2ca-5e63-4e9c-b3cb-a455bcd5b0ff",
   "metadata": {},
   "outputs": [],
   "source": [
    "prod278_df = prod278.export_records(format_type = \"df\")"
   ]
  },
  {
   "cell_type": "code",
   "execution_count": 6,
   "id": "7d6d4429-c3e1-4619-881f-5623791a8c61",
   "metadata": {},
   "outputs": [
    {
     "data": {
      "text/plain": [
       "(2665, 471)"
      ]
     },
     "execution_count": 6,
     "metadata": {},
     "output_type": "execute_result"
    }
   ],
   "source": [
    "prod100_df.shape"
   ]
  },
  {
   "cell_type": "code",
   "execution_count": null,
   "id": "1bcb675c-4b07-4543-bba0-b4b97cdfd487",
   "metadata": {},
   "outputs": [],
   "source": [
    "prod278_df.shape"
   ]
  },
  {
   "cell_type": "code",
   "execution_count": 58,
   "id": "a72eec67-9c78-4347-8a50-c972a9d57a3a",
   "metadata": {},
   "outputs": [],
   "source": [
    "p100_df = prod100_df.iloc[0:50,0:21].copy()\n"
   ]
  },
  {
   "cell_type": "code",
   "execution_count": null,
   "id": "7f1b184a-cb74-4573-80db-3dd1e31355ca",
   "metadata": {},
   "outputs": [],
   "source": [
    "p278_df = prod278_df.iloc[0:50,0:21].copy()"
   ]
  },
  {
   "cell_type": "code",
   "execution_count": null,
   "id": "dcaa9200-a418-49ab-a5f4-05580b521387",
   "metadata": {},
   "outputs": [],
   "source": [
    "p100_df[\"provider_interest\"]"
   ]
  },
  {
   "cell_type": "code",
   "execution_count": null,
   "id": "719a3c07-ab5b-4270-80c3-7d8b9e70cadd",
   "metadata": {},
   "outputs": [],
   "source": [
    "p100_df[\"provider_interest\"] = pd.to_numeric(p100_df[\"provider_interest\"], downcast=\"integer\")"
   ]
  },
  {
   "cell_type": "code",
   "execution_count": 60,
   "id": "a415e4ac-1232-4d79-bcc7-c573a0c67401",
   "metadata": {},
   "outputs": [],
   "source": [
    "csv = p100_df.to_csv()"
   ]
  },
  {
   "cell_type": "code",
   "execution_count": 37,
   "id": "2db0532c-61d0-4221-9c66-b3255f73b0f5",
   "metadata": {},
   "outputs": [],
   "source": [
    "p100_json = p100_df.to_json(orient = \"index\")"
   ]
  },
  {
   "cell_type": "code",
   "execution_count": 63,
   "id": "9ff11d94-072f-4cb0-b044-c42e8e86935a",
   "metadata": {},
   "outputs": [
    {
     "ename": "RequestException",
     "evalue": "{'error': '\"1\",\"provider_interest\",\"1.0\",\"The value is not a valid category for provider_interest\"\\n\"2\",\"provider_interest\",\"1.0\",\"The value is not a valid category for provider_interest\"\\n\"3\",\"provider_interest\",\"1.0\",\"The value is not a valid category for provider_interest\"\\n\"4\",\"provider_interest\",\"1.0\",\"The value is not a valid category for provider_interest\"\\n\"5\",\"provider_interest\",\"1.0\",\"The value is not a valid category for provider_interest\"\\n\"6\",\"provider_interest\",\"1.0\",\"The value is not a valid category for provider_interest\"\\n\"7\",\"provider_interest\",\"1.0\",\"The value is not a valid category for provider_interest\"\\n\"8\",\"provider_interest\",\"1.0\",\"The value is not a valid category for provider_interest\"\\n\"9\",\"provider_interest\",\"1.0\",\"The value is not a valid category for provider_interest\"\\n\"10\",\"provider_interest\",\"1.0\",\"The value is not a valid category for provider_interest\"\\n\"11\",\"provider_interest\",\"1.0\",\"The value is not a valid category for provider_interest\"\\n\"12\",\"provider_interest\",\"1.0\",\"The value is not a valid category for provider_interest\"\\n\"13\",\"provider_interest\",\"1.0\",\"The value is not a valid category for provider_interest\"\\n\"14\",\"provider_interest\",\"1.0\",\"The value is not a valid category for provider_interest\"\\n\"15\",\"provider_interest\",\"1.0\",\"The value is not a valid category for provider_interest\"\\n\"16\",\"provider_interest\",\"1.0\",\"The value is not a valid category for provider_interest\"\\n\"17\",\"provider_interest\",\"1.0\",\"The value is not a valid category for provider_interest\"\\n\"19\",\"provider_interest\",\"1.0\",\"The value is not a valid category for provider_interest\"\\n\"20\",\"provider_interest\",\"1.0\",\"The value is not a valid category for provider_interest\"\\n\"21\",\"provider_interest\",\"1.0\",\"The value is not a valid category for provider_interest\"\\n\"22\",\"provider_interest\",\"1.0\",\"The value is not a valid category for provider_interest\"\\n\"23\",\"provider_interest\",\"1.0\",\"The value is not a valid category for provider_interest\"\\n\"24\",\"provider_interest\",\"1.0\",\"The value is not a valid category for provider_interest\"\\n\"25\",\"provider_interest\",\"1.0\",\"The value is not a valid category for provider_interest\"\\n\"26\",\"provider_interest\",\"1.0\",\"The value is not a valid category for provider_interest\"\\n\"27\",\"provider_interest\",\"1.0\",\"The value is not a valid category for provider_interest\"\\n\"29\",\"provider_interest\",\"1.0\",\"The value is not a valid category for provider_interest\"\\n\"32\",\"provider_interest\",\"1.0\",\"The value is not a valid category for provider_interest\"\\n\"33\",\"provider_interest\",\"1.0\",\"The value is not a valid category for provider_interest\"\\n\"34\",\"provider_interest\",\"0.0\",\"The value is not a valid category for provider_interest\"\\n\"35\",\"provider_interest\",\"1.0\",\"The value is not a valid category for provider_interest\"\\n\"36\",\"provider_interest\",\"1.0\",\"The value is not a valid category for provider_interest\"\\n\"37\",\"provider_interest\",\"1.0\",\"The value is not a valid category for provider_interest\"\\n\"38\",\"provider_interest\",\"1.0\",\"The value is not a valid category for provider_interest\"\\n\"39\",\"provider_interest\",\"1.0\",\"The value is not a valid category for provider_interest\"\\n\"40\",\"provider_interest\",\"1.0\",\"The value is not a valid category for provider_interest\"\\n\"41\",\"provider_interest\",\"1.0\",\"The value is not a valid category for provider_interest\"\\n\"42\",\"provider_interest\",\"1.0\",\"The value is not a valid category for provider_interest\"\\n\"43\",\"provider_interest\",\"1.0\",\"The value is not a valid category for provider_interest\"\\n\"44\",\"provider_interest\",\"1.0\",\"The value is not a valid category for provider_interest\"\\n\"45\",\"provider_interest\",\"1.0\",\"The value is not a valid category for provider_interest\"\\n\"46\",\"provider_interest\",\"1.0\",\"The value is not a valid category for provider_interest\"\\n\"47\",\"provider_interest\",\"1.0\",\"The value is not a valid category for provider_interest\"\\n\"50\",\"provider_interest\",\"1.0\",\"The value is not a valid category for provider_interest\"\\n\"51\",\"provider_interest\",\"1.0\",\"The value is not a valid category for provider_interest\"\\n\"52\",\"provider_interest\",\"1.0\",\"The value is not a valid category for provider_interest\"\\n\"53\",\"provider_interest\",\"1.0\",\"The value is not a valid category for provider_interest\"\\n\"54\",\"provider_interest\",\"1.0\",\"The value is not a valid category for provider_interest\"\\n\"55\",\"provider_interest\",\"1.0\",\"The value is not a valid category for provider_interest\"\\n\"56\",\"provider_interest\",\"1.0\",\"The value is not a valid category for provider_interest\"'}",
     "output_type": "error",
     "traceback": [
      "\u001b[1;31m---------------------------------------------------------------------------\u001b[0m",
      "\u001b[1;31mRequestException\u001b[0m                          Traceback (most recent call last)",
      "Input \u001b[1;32mIn [63]\u001b[0m, in \u001b[0;36m<cell line: 1>\u001b[1;34m()\u001b[0m\n\u001b[1;32m----> 1\u001b[0m \u001b[43mdev100\u001b[49m\u001b[38;5;241;43m.\u001b[39;49m\u001b[43mimport_records\u001b[49m\u001b[43m(\u001b[49m\u001b[43mcsv\u001b[49m\u001b[43m,\u001b[49m\u001b[43m \u001b[49m\u001b[43mimport_format\u001b[49m\u001b[43m \u001b[49m\u001b[38;5;241;43m=\u001b[39;49m\u001b[43m \u001b[49m\u001b[38;5;124;43m\"\u001b[39;49m\u001b[38;5;124;43mcsv\u001b[39;49m\u001b[38;5;124;43m\"\u001b[39;49m\u001b[43m)\u001b[49m\n",
      "File \u001b[1;32m~\\Miniconda3\\envs\\transform22\\lib\\site-packages\\redcap\\methods\\records.py:400\u001b[0m, in \u001b[0;36mRecords.import_records\u001b[1;34m(self, to_import, return_format_type, return_content, overwrite, import_format, date_format, force_auto_number)\u001b[0m\n\u001b[0;32m    393\u001b[0m payload[\u001b[38;5;124m\"\u001b[39m\u001b[38;5;124mforceAutoNumber\u001b[39m\u001b[38;5;124m\"\u001b[39m] \u001b[38;5;241m=\u001b[39m force_auto_number\n\u001b[0;32m    395\u001b[0m return_type \u001b[38;5;241m=\u001b[39m \u001b[38;5;28mself\u001b[39m\u001b[38;5;241m.\u001b[39m_lookup_return_type(\n\u001b[0;32m    396\u001b[0m     format_type\u001b[38;5;241m=\u001b[39mreturn_format_type,\n\u001b[0;32m    397\u001b[0m     request_type\u001b[38;5;241m=\u001b[39m\u001b[38;5;124m\"\u001b[39m\u001b[38;5;124mimport\u001b[39m\u001b[38;5;124m\"\u001b[39m,\n\u001b[0;32m    398\u001b[0m     import_records_format\u001b[38;5;241m=\u001b[39mreturn_content,\n\u001b[0;32m    399\u001b[0m )\n\u001b[1;32m--> 400\u001b[0m response \u001b[38;5;241m=\u001b[39m \u001b[38;5;28;43mself\u001b[39;49m\u001b[38;5;241;43m.\u001b[39;49m\u001b[43m_call_api\u001b[49m\u001b[43m(\u001b[49m\u001b[43mpayload\u001b[49m\u001b[43m,\u001b[49m\u001b[43m \u001b[49m\u001b[43mreturn_type\u001b[49m\u001b[43m)\u001b[49m\n\u001b[0;32m    402\u001b[0m \u001b[38;5;28;01mreturn\u001b[39;00m response\n",
      "File \u001b[1;32m~\\Miniconda3\\envs\\transform22\\lib\\site-packages\\redcap\\methods\\base.py:504\u001b[0m, in \u001b[0;36mBase._call_api\u001b[1;34m(self, payload, return_type, file)\u001b[0m\n\u001b[0;32m    501\u001b[0m return_headers \u001b[38;5;241m=\u001b[39m return_type \u001b[38;5;241m==\u001b[39m \u001b[38;5;124m\"\u001b[39m\u001b[38;5;124mfile_map\u001b[39m\u001b[38;5;124m\"\u001b[39m\n\u001b[0;32m    503\u001b[0m rcr \u001b[38;5;241m=\u001b[39m _RCRequest(url\u001b[38;5;241m=\u001b[39m\u001b[38;5;28mself\u001b[39m\u001b[38;5;241m.\u001b[39murl, payload\u001b[38;5;241m=\u001b[39mpayload, config\u001b[38;5;241m=\u001b[39mconfig)\n\u001b[1;32m--> 504\u001b[0m \u001b[38;5;28;01mreturn\u001b[39;00m \u001b[43mrcr\u001b[49m\u001b[38;5;241;43m.\u001b[39;49m\u001b[43mexecute\u001b[49m\u001b[43m(\u001b[49m\n\u001b[0;32m    505\u001b[0m \u001b[43m    \u001b[49m\u001b[43mverify_ssl\u001b[49m\u001b[38;5;241;43m=\u001b[39;49m\u001b[38;5;28;43mself\u001b[39;49m\u001b[38;5;241;43m.\u001b[39;49m\u001b[43mverify_ssl\u001b[49m\u001b[43m,\u001b[49m\u001b[43m \u001b[49m\u001b[43mreturn_headers\u001b[49m\u001b[38;5;241;43m=\u001b[39;49m\u001b[43mreturn_headers\u001b[49m\u001b[43m,\u001b[49m\u001b[43m \u001b[49m\u001b[43mfile\u001b[49m\u001b[38;5;241;43m=\u001b[39;49m\u001b[43mfile\u001b[49m\n\u001b[0;32m    506\u001b[0m \u001b[43m\u001b[49m\u001b[43m)\u001b[49m\n",
      "File \u001b[1;32m~\\Miniconda3\\envs\\transform22\\lib\\site-packages\\redcap\\request.py:224\u001b[0m, in \u001b[0;36m_RCRequest.execute\u001b[1;34m(self, verify_ssl, return_headers, file)\u001b[0m\n\u001b[0;32m    221\u001b[0m     bad_request \u001b[38;5;241m=\u001b[39m \u001b[38;5;124m\"\u001b[39m\u001b[38;5;124m<error>\u001b[39m\u001b[38;5;124m\"\u001b[39m \u001b[38;5;129;01min\u001b[39;00m \u001b[38;5;28mstr\u001b[39m(content)\u001b[38;5;241m.\u001b[39mlower()\n\u001b[0;32m    223\u001b[0m \u001b[38;5;28;01mif\u001b[39;00m bad_request:\n\u001b[1;32m--> 224\u001b[0m     \u001b[38;5;28;01mraise\u001b[39;00m RedcapError(content)\n\u001b[0;32m    226\u001b[0m \u001b[38;5;28;01mif\u001b[39;00m return_headers:\n\u001b[0;32m    227\u001b[0m     \u001b[38;5;28;01mreturn\u001b[39;00m content, response\u001b[38;5;241m.\u001b[39mheaders\n",
      "\u001b[1;31mRequestException\u001b[0m: {'error': '\"1\",\"provider_interest\",\"1.0\",\"The value is not a valid category for provider_interest\"\\n\"2\",\"provider_interest\",\"1.0\",\"The value is not a valid category for provider_interest\"\\n\"3\",\"provider_interest\",\"1.0\",\"The value is not a valid category for provider_interest\"\\n\"4\",\"provider_interest\",\"1.0\",\"The value is not a valid category for provider_interest\"\\n\"5\",\"provider_interest\",\"1.0\",\"The value is not a valid category for provider_interest\"\\n\"6\",\"provider_interest\",\"1.0\",\"The value is not a valid category for provider_interest\"\\n\"7\",\"provider_interest\",\"1.0\",\"The value is not a valid category for provider_interest\"\\n\"8\",\"provider_interest\",\"1.0\",\"The value is not a valid category for provider_interest\"\\n\"9\",\"provider_interest\",\"1.0\",\"The value is not a valid category for provider_interest\"\\n\"10\",\"provider_interest\",\"1.0\",\"The value is not a valid category for provider_interest\"\\n\"11\",\"provider_interest\",\"1.0\",\"The value is not a valid category for provider_interest\"\\n\"12\",\"provider_interest\",\"1.0\",\"The value is not a valid category for provider_interest\"\\n\"13\",\"provider_interest\",\"1.0\",\"The value is not a valid category for provider_interest\"\\n\"14\",\"provider_interest\",\"1.0\",\"The value is not a valid category for provider_interest\"\\n\"15\",\"provider_interest\",\"1.0\",\"The value is not a valid category for provider_interest\"\\n\"16\",\"provider_interest\",\"1.0\",\"The value is not a valid category for provider_interest\"\\n\"17\",\"provider_interest\",\"1.0\",\"The value is not a valid category for provider_interest\"\\n\"19\",\"provider_interest\",\"1.0\",\"The value is not a valid category for provider_interest\"\\n\"20\",\"provider_interest\",\"1.0\",\"The value is not a valid category for provider_interest\"\\n\"21\",\"provider_interest\",\"1.0\",\"The value is not a valid category for provider_interest\"\\n\"22\",\"provider_interest\",\"1.0\",\"The value is not a valid category for provider_interest\"\\n\"23\",\"provider_interest\",\"1.0\",\"The value is not a valid category for provider_interest\"\\n\"24\",\"provider_interest\",\"1.0\",\"The value is not a valid category for provider_interest\"\\n\"25\",\"provider_interest\",\"1.0\",\"The value is not a valid category for provider_interest\"\\n\"26\",\"provider_interest\",\"1.0\",\"The value is not a valid category for provider_interest\"\\n\"27\",\"provider_interest\",\"1.0\",\"The value is not a valid category for provider_interest\"\\n\"29\",\"provider_interest\",\"1.0\",\"The value is not a valid category for provider_interest\"\\n\"32\",\"provider_interest\",\"1.0\",\"The value is not a valid category for provider_interest\"\\n\"33\",\"provider_interest\",\"1.0\",\"The value is not a valid category for provider_interest\"\\n\"34\",\"provider_interest\",\"0.0\",\"The value is not a valid category for provider_interest\"\\n\"35\",\"provider_interest\",\"1.0\",\"The value is not a valid category for provider_interest\"\\n\"36\",\"provider_interest\",\"1.0\",\"The value is not a valid category for provider_interest\"\\n\"37\",\"provider_interest\",\"1.0\",\"The value is not a valid category for provider_interest\"\\n\"38\",\"provider_interest\",\"1.0\",\"The value is not a valid category for provider_interest\"\\n\"39\",\"provider_interest\",\"1.0\",\"The value is not a valid category for provider_interest\"\\n\"40\",\"provider_interest\",\"1.0\",\"The value is not a valid category for provider_interest\"\\n\"41\",\"provider_interest\",\"1.0\",\"The value is not a valid category for provider_interest\"\\n\"42\",\"provider_interest\",\"1.0\",\"The value is not a valid category for provider_interest\"\\n\"43\",\"provider_interest\",\"1.0\",\"The value is not a valid category for provider_interest\"\\n\"44\",\"provider_interest\",\"1.0\",\"The value is not a valid category for provider_interest\"\\n\"45\",\"provider_interest\",\"1.0\",\"The value is not a valid category for provider_interest\"\\n\"46\",\"provider_interest\",\"1.0\",\"The value is not a valid category for provider_interest\"\\n\"47\",\"provider_interest\",\"1.0\",\"The value is not a valid category for provider_interest\"\\n\"50\",\"provider_interest\",\"1.0\",\"The value is not a valid category for provider_interest\"\\n\"51\",\"provider_interest\",\"1.0\",\"The value is not a valid category for provider_interest\"\\n\"52\",\"provider_interest\",\"1.0\",\"The value is not a valid category for provider_interest\"\\n\"53\",\"provider_interest\",\"1.0\",\"The value is not a valid category for provider_interest\"\\n\"54\",\"provider_interest\",\"1.0\",\"The value is not a valid category for provider_interest\"\\n\"55\",\"provider_interest\",\"1.0\",\"The value is not a valid category for provider_interest\"\\n\"56\",\"provider_interest\",\"1.0\",\"The value is not a valid category for provider_interest\"'}"
     ]
    }
   ],
   "source": [
    "dev100.import_records(csv, import_format = \"csv\")"
   ]
  },
  {
   "cell_type": "code",
   "execution_count": null,
   "id": "5a4e3b31-11c0-4063-81cc-f81c34c9ef6c",
   "metadata": {},
   "outputs": [],
   "source": [
    "dev100.import_records?"
   ]
  },
  {
   "cell_type": "code",
   "execution_count": null,
   "id": "67be2684-d8e0-4137-a22b-5f971bd97d18",
   "metadata": {},
   "outputs": [],
   "source": [
    "dev100.import_records?"
   ]
  },
  {
   "cell_type": "code",
   "execution_count": 53,
   "id": "17101553-fe5a-465c-9d66-65c6c4f5ab21",
   "metadata": {},
   "outputs": [],
   "source": [
    "test = p100_df.iloc[0:2,0:21]"
   ]
  },
  {
   "cell_type": "code",
   "execution_count": 54,
   "id": "34548d15-28f6-405b-95db-eb4758cf06c3",
   "metadata": {},
   "outputs": [
    {
     "data": {
      "text/html": [
       "<div>\n",
       "<style scoped>\n",
       "    .dataframe tbody tr th:only-of-type {\n",
       "        vertical-align: middle;\n",
       "    }\n",
       "\n",
       "    .dataframe tbody tr th {\n",
       "        vertical-align: top;\n",
       "    }\n",
       "\n",
       "    .dataframe thead th {\n",
       "        text-align: right;\n",
       "    }\n",
       "</style>\n",
       "<table border=\"1\" class=\"dataframe\">\n",
       "  <thead>\n",
       "    <tr style=\"text-align: right;\">\n",
       "      <th></th>\n",
       "      <th>record_id</th>\n",
       "      <th>provider_yn</th>\n",
       "      <th>inq_org_name</th>\n",
       "      <th>inq_fac_name</th>\n",
       "      <th>inq_fac_street</th>\n",
       "      <th>inq_fac_city</th>\n",
       "      <th>inq_fac_state</th>\n",
       "      <th>inq_fac_zip</th>\n",
       "      <th>inq_contact_fname</th>\n",
       "      <th>inq_contact_lname</th>\n",
       "      <th>...</th>\n",
       "      <th>inq_contact_ext</th>\n",
       "      <th>inq_contact_email</th>\n",
       "      <th>inquiry_enrollment_survey_complete</th>\n",
       "      <th>inq_in_iis</th>\n",
       "      <th>inq_iis_notes</th>\n",
       "      <th>inq_valid</th>\n",
       "      <th>inq_vm_notes</th>\n",
       "      <th>send_survey</th>\n",
       "      <th>send_rejectionletter</th>\n",
       "      <th>inquiry_review_form_complete</th>\n",
       "    </tr>\n",
       "  </thead>\n",
       "  <tbody>\n",
       "    <tr>\n",
       "      <th>0</th>\n",
       "      <td>1</td>\n",
       "      <td>NaN</td>\n",
       "      <td>NaN</td>\n",
       "      <td>NaN</td>\n",
       "      <td>NaN</td>\n",
       "      <td>NaN</td>\n",
       "      <td>NaN</td>\n",
       "      <td>NaN</td>\n",
       "      <td>NaN</td>\n",
       "      <td>NaN</td>\n",
       "      <td>...</td>\n",
       "      <td>NaN</td>\n",
       "      <td>NaN</td>\n",
       "      <td>0</td>\n",
       "      <td>NaN</td>\n",
       "      <td>NaN</td>\n",
       "      <td>NaN</td>\n",
       "      <td>NaN</td>\n",
       "      <td>NaN</td>\n",
       "      <td>NaN</td>\n",
       "      <td>0</td>\n",
       "    </tr>\n",
       "    <tr>\n",
       "      <th>1</th>\n",
       "      <td>2</td>\n",
       "      <td>NaN</td>\n",
       "      <td>NaN</td>\n",
       "      <td>NaN</td>\n",
       "      <td>NaN</td>\n",
       "      <td>NaN</td>\n",
       "      <td>NaN</td>\n",
       "      <td>NaN</td>\n",
       "      <td>NaN</td>\n",
       "      <td>NaN</td>\n",
       "      <td>...</td>\n",
       "      <td>NaN</td>\n",
       "      <td>NaN</td>\n",
       "      <td>0</td>\n",
       "      <td>NaN</td>\n",
       "      <td>NaN</td>\n",
       "      <td>NaN</td>\n",
       "      <td>NaN</td>\n",
       "      <td>NaN</td>\n",
       "      <td>NaN</td>\n",
       "      <td>0</td>\n",
       "    </tr>\n",
       "  </tbody>\n",
       "</table>\n",
       "<p>2 rows × 21 columns</p>\n",
       "</div>"
      ],
      "text/plain": [
       "   record_id  provider_yn inq_org_name inq_fac_name inq_fac_street  \\\n",
       "0          1          NaN          NaN          NaN            NaN   \n",
       "1          2          NaN          NaN          NaN            NaN   \n",
       "\n",
       "  inq_fac_city inq_fac_state  inq_fac_zip inq_contact_fname inq_contact_lname  \\\n",
       "0          NaN           NaN          NaN               NaN               NaN   \n",
       "1          NaN           NaN          NaN               NaN               NaN   \n",
       "\n",
       "   ... inq_contact_ext  inq_contact_email inquiry_enrollment_survey_complete  \\\n",
       "0  ...             NaN                NaN                                  0   \n",
       "1  ...             NaN                NaN                                  0   \n",
       "\n",
       "   inq_in_iis  inq_iis_notes inq_valid  inq_vm_notes send_survey  \\\n",
       "0         NaN            NaN       NaN           NaN         NaN   \n",
       "1         NaN            NaN       NaN           NaN         NaN   \n",
       "\n",
       "   send_rejectionletter  inquiry_review_form_complete  \n",
       "0                   NaN                             0  \n",
       "1                   NaN                             0  \n",
       "\n",
       "[2 rows x 21 columns]"
      ]
     },
     "execution_count": 54,
     "metadata": {},
     "output_type": "execute_result"
    }
   ],
   "source": [
    "test"
   ]
  },
  {
   "cell_type": "code",
   "execution_count": 55,
   "id": "629b52e1-07b7-4a85-aa90-9391fe11226a",
   "metadata": {},
   "outputs": [
    {
     "data": {
      "text/plain": [
       "'{\"record_id\":{\"0\":1,\"1\":2},\"provider_yn\":{\"0\":null,\"1\":null},\"inq_org_name\":{\"0\":null,\"1\":null},\"inq_fac_name\":{\"0\":null,\"1\":null},\"inq_fac_street\":{\"0\":null,\"1\":null},\"inq_fac_city\":{\"0\":null,\"1\":null},\"inq_fac_state\":{\"0\":null,\"1\":null},\"inq_fac_zip\":{\"0\":null,\"1\":null},\"inq_contact_fname\":{\"0\":null,\"1\":null},\"inq_contact_lname\":{\"0\":null,\"1\":null},\"inq_contact_phone\":{\"0\":null,\"1\":null},\"inq_contact_ext\":{\"0\":null,\"1\":null},\"inq_contact_email\":{\"0\":null,\"1\":null},\"inquiry_enrollment_survey_complete\":{\"0\":0,\"1\":0},\"inq_in_iis\":{\"0\":null,\"1\":null},\"inq_iis_notes\":{\"0\":null,\"1\":null},\"inq_valid\":{\"0\":null,\"1\":null},\"inq_vm_notes\":{\"0\":null,\"1\":null},\"send_survey\":{\"0\":null,\"1\":null},\"send_rejectionletter\":{\"0\":null,\"1\":null},\"inquiry_review_form_complete\":{\"0\":0,\"1\":0}}'"
      ]
     },
     "execution_count": 55,
     "metadata": {},
     "output_type": "execute_result"
    }
   ],
   "source": [
    "test.to_json()"
   ]
  },
  {
   "cell_type": "code",
   "execution_count": null,
   "id": "2735b72c-2056-4854-a4fb-aa3a96b80b6d",
   "metadata": {},
   "outputs": [],
   "source": [
    "p100meta = prod100.export_metadata(format_type = \"df\")"
   ]
  },
  {
   "cell_type": "code",
   "execution_count": null,
   "id": "f740c98a-39ba-414e-8524-b43fed8baa15",
   "metadata": {},
   "outputs": [],
   "source": [
    "p100meta[\"field_type\"].value_counts()"
   ]
  },
  {
   "cell_type": "code",
   "execution_count": null,
   "id": "0e08b44d-dcbb-41ea-9566-351c5ab12106",
   "metadata": {},
   "outputs": [],
   "source": [
    "numeric = [\"checkbox\", \"yesno\", \"dropdown\", \"radio\"]\n",
    "\n",
    "num_fields = list(p100meta[p100meta[\"field_type\"].isin(numeric)].index)"
   ]
  },
  {
   "cell_type": "code",
   "execution_count": null,
   "id": "a0549afc-e4cc-4862-af14-1ad21b4681dd",
   "metadata": {},
   "outputs": [],
   "source": [
    "num_fields_1 = set(num_fields) - set(['loc_setting', 'loc_pop', 'vm_staff_assigned', 'approved_units', 'type_ord_set'])"
   ]
  },
  {
   "cell_type": "code",
   "execution_count": null,
   "id": "9492c7c9-158c-447b-9b4e-3f41c553a899",
   "metadata": {},
   "outputs": [],
   "source": [
    "prod100_df[list(num_fields_1)]"
   ]
  },
  {
   "cell_type": "code",
   "execution_count": null,
   "id": "bcbb534f-78d2-49cb-92a2-b44cb0aa5cc2",
   "metadata": {},
   "outputs": [],
   "source": [
    "p100meta.sort_index(inplace = True)"
   ]
  },
  {
   "cell_type": "code",
   "execution_count": null,
   "id": "591b5b61-0b82-42be-9b42-c1d7555c2cd8",
   "metadata": {},
   "outputs": [],
   "source": [
    "[i for i in p100meta.index]"
   ]
  },
  {
   "cell_type": "code",
   "execution_count": null,
   "id": "7acacbdb-e54d-4bea-b9ef-b9e489fa25f1",
   "metadata": {},
   "outputs": [],
   "source": [
    "[i for i in prod100_df.columns.sort_values()]"
   ]
  },
  {
   "cell_type": "code",
   "execution_count": null,
   "id": "3be4bd4a-5359-4844-9284-48e8d7e74c73",
   "metadata": {},
   "outputs": [],
   "source": [
    "loc_set = ['loc_setting___1',\n",
    " 'loc_setting___10',\n",
    " 'loc_setting___11',\n",
    " 'loc_setting___12',\n",
    " 'loc_setting___13',\n",
    " 'loc_setting___14',\n",
    " 'loc_setting___15',\n",
    " 'loc_setting___16',\n",
    " 'loc_setting___17',\n",
    " 'loc_setting___2',\n",
    " 'loc_setting___3',\n",
    " 'loc_setting___4',\n",
    " 'loc_setting___5',\n",
    " 'loc_setting___6',\n",
    " 'loc_setting___7',\n",
    " 'loc_setting___8',\n",
    " 'loc_setting___9',]\n",
    "\n",
    "prod100_df[loc_set].dtypes"
   ]
  },
  {
   "cell_type": "code",
   "execution_count": null,
   "id": "4be58b51-4058-4766-893f-ec43b2f4c116",
   "metadata": {},
   "outputs": [],
   "source": [
    "p100meta.sort_index(inplace =True)"
   ]
  },
  {
   "cell_type": "code",
   "execution_count": null,
   "id": "bac01827-5f6a-45b8-b324-048ed9117979",
   "metadata": {},
   "outputs": [],
   "source": [
    "p100meta.index"
   ]
  },
  {
   "cell_type": "code",
   "execution_count": null,
   "id": "3a76ca40-1866-4fd6-a865-517a15ddde58",
   "metadata": {},
   "outputs": [],
   "source": [
    "[i for i in p100meta.index]"
   ]
  },
  {
   "cell_type": "code",
   "execution_count": null,
   "id": "d8b9fcb3-8d5d-4274-8a2b-7bdef2224c6b",
   "metadata": {},
   "outputs": [],
   "source": [
    "filt = p100meta[\"form_name\"] == \"inquiry_enrollment_survey\"\n",
    "p100meta[filt].shape"
   ]
  }
 ],
 "metadata": {
  "kernelspec": {
   "display_name": "Python [conda env:transform22] *",
   "language": "python",
   "name": "conda-env-transform22-py"
  },
  "language_info": {
   "codemirror_mode": {
    "name": "ipython",
    "version": 3
   },
   "file_extension": ".py",
   "mimetype": "text/x-python",
   "name": "python",
   "nbconvert_exporter": "python",
   "pygments_lexer": "ipython3",
   "version": "3.9.12"
  }
 },
 "nbformat": 4,
 "nbformat_minor": 5
}
