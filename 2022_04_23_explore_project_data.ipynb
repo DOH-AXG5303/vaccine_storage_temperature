{
 "cells": [
  {
   "cell_type": "markdown",
   "id": "0833531c-4922-4ef8-bccd-15e8a9af49f1",
   "metadata": {},
   "source": [
    "# Export project data from Prod to QA for pipeline testing\n",
    "\n",
    "Production PID's: 100, 278\n",
    "\n",
    "QA PID's: Copies of above PID's: 75, 74"
   ]
  },
  {
   "cell_type": "code",
   "execution_count": 1,
   "id": "7c4273e1-f0de-4eb4-ba8e-93544691a18b",
   "metadata": {},
   "outputs": [],
   "source": [
    "import redcap"
   ]
  },
  {
   "cell_type": "code",
   "execution_count": 2,
   "id": "5927ce92-acda-4f24-be2f-2e878ca15a90",
   "metadata": {},
   "outputs": [
    {
     "name": "stdout",
     "output_type": "stream",
     "text": [
      "https://qa-redcap.doh.wa.gov/api/\n",
      "https://redcap.doh.wa.gov/api/\n",
      "['dev_pid100', 'dev_pid278', 'prod_pid100', 'prod_pid278']\n"
     ]
    }
   ],
   "source": [
    "#API URL and API keys import\n",
    "%run -i -n \"credentials.py\"\n",
    "\n",
    "print(dev_url)\n",
    "print(prod_url)\n",
    "print([\"dev_pid100\", \"dev_pid278\", \"prod_pid100\", \"prod_pid278\"])"
   ]
  },
  {
   "cell_type": "code",
   "execution_count": 3,
   "id": "b0ae02d5-fa6e-4e45-978d-1fa965cf4c7d",
   "metadata": {},
   "outputs": [],
   "source": [
    "#Create Project objects\n",
    "prod100 = redcap.Project(prod_url, prod_pid100)\n",
    "prod278 = redcap.Project(prod_url, prod_pid278)\n",
    "\n",
    "dev100 = redcap.Project(dev_url, dev_pid100)\n",
    "dev278 = redcap.Project(dev_url, dev_pid278)"
   ]
  },
  {
   "cell_type": "markdown",
   "id": "387dec60-795e-4290-b974-c046dcd5007c",
   "metadata": {},
   "source": [
    "## Explore PID100 Dataset, Export Text Fields to QA"
   ]
  },
  {
   "cell_type": "code",
   "execution_count": null,
   "id": "9c796bc1-141e-4604-b910-97bc63fdf62e",
   "metadata": {},
   "outputs": [],
   "source": [
    "prod100_df = prod100.export_records(format_type = \"df\", raw_or_label = \"raw\")\n",
    "p100meta = prod100.export_metadata(format_type = \"df\")\n",
    "p100meta.drop(\"record_id\", inplace = True) #remove \"record_id\" from metadata (this is REDCap index)"
   ]
  },
  {
   "cell_type": "code",
   "execution_count": null,
   "id": "94c27b9f-0d57-49e1-bc14-eb51acedbf8f",
   "metadata": {},
   "outputs": [],
   "source": [
    "#import 500 rows of all fields that are \"text\" type\n",
    "filt_txt = p100meta[\"field_type\"] == \"text\"\n",
    "fields_txt = set(p100meta[filt_txt].index)"
   ]
  },
  {
   "cell_type": "code",
   "execution_count": null,
   "id": "c8ed3ae5-c1a2-4b6f-9f6b-a2dc97092a7e",
   "metadata": {},
   "outputs": [],
   "source": [
    "#verify txt fields are the same length with the intersection of txt fields\n",
    "print(len(fields_txt))\n",
    "print(len(fields_txt & set(prod100_df.columns)))\n",
    "\n",
    "#verify that all txt fields exist in dataset \n",
    "common = fields_txt & set(prod100_df.columns)\n",
    "common == fields_txt"
   ]
  },
  {
   "cell_type": "code",
   "execution_count": null,
   "id": "b608acda-716c-4b8c-97de-d04ca32bcaf0",
   "metadata": {},
   "outputs": [],
   "source": [
    "#first 500 rows, and all text fields\n",
    "df_import_txt = prod100_df.iloc[0:500,:].loc[:, list(fields_txt)].copy()"
   ]
  },
  {
   "cell_type": "code",
   "execution_count": null,
   "id": "dccdc0d2-ba4d-4e8c-8e63-9101ca406417",
   "metadata": {},
   "outputs": [],
   "source": [
    "#Convert all float type columns that are defined as text fields in redcap, into Int64 type\n",
    "floating = df_import_txt.dtypes == np.floating\n",
    "df_import_txt.loc[:, floating] = df_import_txt.loc[:, floating].astype(\"Int64\")"
   ]
  },
  {
   "cell_type": "code",
   "execution_count": null,
   "id": "dc2b8d1d-a9d7-4830-8992-46be93dd3f63",
   "metadata": {},
   "outputs": [],
   "source": [
    "dev100.import_records(df_import_txt, import_format = \"df\")"
   ]
  },
  {
   "cell_type": "markdown",
   "id": "aeb8c82c-dcc1-407a-967c-55882379563d",
   "metadata": {},
   "source": [
    "## Explore PID100 Dataset, Export radio fields to QA"
   ]
  },
  {
   "cell_type": "code",
   "execution_count": null,
   "id": "494c2ddb-5988-4c35-9c64-f5ee479e2aff",
   "metadata": {},
   "outputs": [],
   "source": [
    "p100meta[\"field_type\"].value_counts()"
   ]
  },
  {
   "cell_type": "code",
   "execution_count": null,
   "id": "b4429f71-c7c0-4485-8f71-9552ca8ee0f2",
   "metadata": {},
   "outputs": [],
   "source": [
    "meta_groups = p100meta.groupby(\"field_type\")\n",
    "fields_radio = meta_groups.get_group(\"radio\").index\n",
    "\n",
    "#verify all columns exist within dataframe\n",
    "print(len(fields_radio))\n",
    "print(len(set(fields_radio) & set(prod100_df.columns)))"
   ]
  },
  {
   "cell_type": "code",
   "execution_count": null,
   "id": "bb241c6e-5077-45d3-9925-0d9607868dae",
   "metadata": {},
   "outputs": [],
   "source": [
    "df_import_radio = prod100_df.iloc[0:500,:].loc[:, list(fields_radio)].copy()\n",
    "\n",
    "#changing float dtypes to Int\n",
    "floating_radio = df_import_radio.dtypes == np.floating\n",
    "df_import_radio.loc[:, floating_radio] = df_import_radio.loc[:, floating_radio].astype(\"Int64\")"
   ]
  },
  {
   "cell_type": "code",
   "execution_count": null,
   "id": "db26032e-9e82-482f-8b71-df6522bb566f",
   "metadata": {},
   "outputs": [],
   "source": [
    "dev100.import_records(df_import_radio, import_format = \"df\")"
   ]
  },
  {
   "cell_type": "markdown",
   "id": "4e475dbf-ac05-49b0-ac00-6e24684403af",
   "metadata": {},
   "source": [
    "## Explore PID100 Dataset, Export radio fields to QA\n",
    "\n",
    "file fields are exported as str names of the uploaded files. Will not export these fields."
   ]
  },
  {
   "cell_type": "code",
   "execution_count": null,
   "id": "62b76bf1-fb03-42db-92aa-cdd0a0dc0b39",
   "metadata": {},
   "outputs": [],
   "source": [
    "fields_file = meta_groups.get_group(\"file\").index"
   ]
  },
  {
   "cell_type": "code",
   "execution_count": null,
   "id": "4c67e7ae-ed50-405f-ad86-02c083ca6fba",
   "metadata": {},
   "outputs": [],
   "source": [
    "print(len(fields_file))\n",
    "print(len(set(prod100_df.columns) & set(fields_file)))"
   ]
  },
  {
   "cell_type": "code",
   "execution_count": null,
   "id": "b011b1c8-6879-4417-a6fa-b40084542908",
   "metadata": {},
   "outputs": [],
   "source": [
    "prod100_df.loc[:, list(fields_file)]"
   ]
  },
  {
   "cell_type": "markdown",
   "id": "da780939-65b7-479d-a04e-f5b0de8ee1ac",
   "metadata": {},
   "source": [
    "## Explore PID100 Dataset, Export dropdown fields to QA\n",
    "\n"
   ]
  },
  {
   "cell_type": "code",
   "execution_count": null,
   "id": "2b9c8c94-485e-4acf-a72a-99be9c07d649",
   "metadata": {},
   "outputs": [],
   "source": [
    "fields_dropdown = meta_groups.get_group(\"dropdown\").index"
   ]
  },
  {
   "cell_type": "code",
   "execution_count": null,
   "id": "0cd08509-40ce-4c29-89bd-80919068acbd",
   "metadata": {},
   "outputs": [],
   "source": [
    "print(len(fields_dropdown))\n",
    "print(len(set(prod100_df.columns) & set(fields_dropdown)))"
   ]
  },
  {
   "cell_type": "code",
   "execution_count": null,
   "id": "0494ed6f-fdf6-4db9-a706-897ca0bce7bf",
   "metadata": {},
   "outputs": [],
   "source": [
    "df_import_dropdown = prod100_df.iloc[0:500,:].loc[:, list(fields_dropdown)].copy()\n",
    "\n",
    "#changing float dtypes to Int\n",
    "floating_dropdown = df_import_dropdown.dtypes == np.floating\n",
    "df_import_dropdown.loc[:, floating_dropdown] = df_import_dropdown.loc[:, floating_dropdown].astype(\"Int64\")"
   ]
  },
  {
   "cell_type": "code",
   "execution_count": null,
   "id": "31b4b6fc-9009-478e-b29b-c52a90d75acd",
   "metadata": {},
   "outputs": [],
   "source": [
    "#renaming values from raw to coded, why do some fields import raw values and some fields import on labels???\n",
    "org_wa_county = {\"Pend_Orielle\": \"Pend_Oreille\"}\n",
    "df_import_dropdown[\"org_wa_county\"] = df_import_dropdown[\"org_wa_county\"].replace(org_wa_county)\n",
    "\n",
    "df_import_dropdown[\"org_wa_county\"].value_counts()\n"
   ]
  },
  {
   "cell_type": "code",
   "execution_count": null,
   "id": "301b0ac0-0288-40d9-b2d1-91c185a09b0f",
   "metadata": {},
   "outputs": [],
   "source": [
    "df_import_dropdown[[\"org_wa_county\",\"org_cmo_county\", \"org_ceo_county\"]] = df_import_dropdown[[\"org_wa_county\",\"org_cmo_county\", \"org_ceo_county\"]].replace(org_wa_county)"
   ]
  },
  {
   "cell_type": "code",
   "execution_count": null,
   "id": "87790411-776c-48ea-ae66-e0c16b8515f9",
   "metadata": {},
   "outputs": [],
   "source": [
    "df_import_dropdown[[\"org_wa_county\",\"org_cmo_county\", \"org_ceo_county\"]].value_counts()"
   ]
  },
  {
   "cell_type": "code",
   "execution_count": null,
   "id": "7625ea03-066d-4c32-8ac3-cd7f8687f20f",
   "metadata": {},
   "outputs": [],
   "source": [
    "dev100.import_records(df_import_dropdown, import_format = \"df\")"
   ]
  },
  {
   "cell_type": "markdown",
   "id": "49e7decd-4c84-4982-a0c3-3eef74d86723",
   "metadata": {},
   "source": [
    "## Explore PID100 Dataset, Export yes/no fields to QA\n"
   ]
  },
  {
   "cell_type": "code",
   "execution_count": null,
   "id": "d196fb0a-82c9-49ba-9413-2da14a7ba59e",
   "metadata": {},
   "outputs": [],
   "source": [
    "fields_yesno = meta_groups.get_group(\"yesno\").index\n",
    "\n",
    "#verify all columns exist within dataframe\n",
    "print(len(fields_yesno))\n",
    "print(len(set(fields_yesno) & set(prod100_df.columns)))"
   ]
  },
  {
   "cell_type": "code",
   "execution_count": null,
   "id": "11fcaf82-c910-4027-ac5e-8814d935cdb6",
   "metadata": {},
   "outputs": [],
   "source": [
    "df_import_yesno = prod100_df.iloc[0:500,:].loc[:, list(fields_yesno)].copy()"
   ]
  },
  {
   "cell_type": "code",
   "execution_count": null,
   "id": "09d1d539-035f-4d82-85db-229ad543e89d",
   "metadata": {},
   "outputs": [],
   "source": [
    "df_import_yesno = df_import_yesno.astype(\"Int64\")"
   ]
  },
  {
   "cell_type": "code",
   "execution_count": null,
   "id": "8d17ea2b-a0f8-4037-a114-35603adb9165",
   "metadata": {},
   "outputs": [],
   "source": [
    "dev100.import_records(df_import_yesno, import_format = \"df\")"
   ]
  },
  {
   "cell_type": "markdown",
   "id": "25d980c5-eabd-4981-94c9-2cdb0f4e1865",
   "metadata": {},
   "source": [
    "## Explore PID100 Dataset, Export Notes fields to QA"
   ]
  },
  {
   "cell_type": "code",
   "execution_count": null,
   "id": "9bb49f85-e2b0-4017-a9a7-e06c4f3b3189",
   "metadata": {},
   "outputs": [],
   "source": [
    "fields_notes = meta_groups.get_group(\"notes\").index\n",
    "\n",
    "#verify all columns exist within dataframe\n",
    "print(len(fields_notes))\n",
    "print(len(set(fields_notes) & set(prod100_df.columns)))"
   ]
  },
  {
   "cell_type": "code",
   "execution_count": null,
   "id": "417a1242-1b52-4ad9-9847-362c45e60aaa",
   "metadata": {},
   "outputs": [],
   "source": [
    "df_import_notes = prod100_df.iloc[0:500,:].loc[:, list(fields_notes)].copy()"
   ]
  },
  {
   "cell_type": "code",
   "execution_count": null,
   "id": "920f312d-b5cc-438f-acfc-e9e175acd65b",
   "metadata": {},
   "outputs": [],
   "source": [
    "dev100.import_records(df_import_notes, import_format = \"df\")"
   ]
  },
  {
   "cell_type": "markdown",
   "id": "5c0e82d0-a050-4676-b1d5-098ffb8d7f1d",
   "metadata": {},
   "source": [
    "## Explore PID100 Dataset, Export Notes and Checkboxes fields to QA"
   ]
  },
  {
   "cell_type": "code",
   "execution_count": null,
   "id": "56e6443b-79d5-4e94-8145-35c2a65ce123",
   "metadata": {},
   "outputs": [],
   "source": [
    "fields_checkbox_orig = meta_groups.get_group(\"checkbox\").index\n",
    "\n",
    "#verify all columns exist within dataframe\n",
    "print(len(fields_checkbox_orig))\n",
    "print(len(set(fields_checkbox_orig) & set(prod100_df.columns)))"
   ]
  },
  {
   "cell_type": "code",
   "execution_count": null,
   "id": "2955f00a-dd5d-490e-990f-29e78e4af985",
   "metadata": {},
   "outputs": [],
   "source": [
    "fields_checkbox = list(fields_checkbox_orig + \"__\")\n",
    "a = \"|\".join(fields_checkbox)\n",
    "b = prod100_df.columns.str.contains(a)\n",
    "\n",
    "df_import_checkbox = prod100_df.iloc[0:500,:].loc[:, list(prod100_df.columns[b])].copy()"
   ]
  },
  {
   "cell_type": "code",
   "execution_count": null,
   "id": "b92900da-8f52-46df-9bfa-749a651023ac",
   "metadata": {},
   "outputs": [],
   "source": [
    "len(df_import_checkbox.columns)"
   ]
  },
  {
   "cell_type": "code",
   "execution_count": null,
   "id": "7cca23c5-f159-4734-9ba5-1d5613f54ded",
   "metadata": {},
   "outputs": [],
   "source": [
    "dev100.import_records(df_import_checkbox, import_format = \"df\")"
   ]
  },
  {
   "cell_type": "markdown",
   "id": "a73157e8-aea5-4ae2-aa98-fceaee811813",
   "metadata": {},
   "source": [
    "## Evaluate All Imported Fields\n",
    "\n",
    "All remaining after importing by category type (metadata)"
   ]
  },
  {
   "cell_type": "code",
   "execution_count": null,
   "id": "f15e0ab3-d9a1-4cdb-8bd0-98d2e30179e6",
   "metadata": {},
   "outputs": [],
   "source": [
    "imported_dfs = [df_import_checkbox, df_import_dropdown, df_import_notes, df_import_radio, df_import_txt, df_import_yesno]\n",
    "\n",
    "#list of lists for all imported fields\n",
    "imported_fields = []\n",
    "for i in imported_dfs:\n",
    "    clms_list = list(i.columns)\n",
    "    imported_fields.append(clms_list)\n",
    "    \n"
   ]
  },
  {
   "cell_type": "code",
   "execution_count": null,
   "id": "8bf63f15-ba9b-499d-904a-ddb98f01443c",
   "metadata": {},
   "outputs": [],
   "source": [
    "\n",
    "all_imported_fields = [item for sublist in imported_fields for item in sublist]"
   ]
  },
  {
   "cell_type": "code",
   "execution_count": null,
   "id": "6d836cef-aeed-4fca-81ec-c0dee2b602a5",
   "metadata": {},
   "outputs": [],
   "source": [
    "len(all_imported_fields)"
   ]
  },
  {
   "cell_type": "code",
   "execution_count": null,
   "id": "7dd3934f-980a-4f0b-b769-8b8eca3e81d2",
   "metadata": {},
   "outputs": [],
   "source": [
    "#All standard columns except for fields that contain files\n",
    "prod100_clms = set(prod100_df.columns) - set(fields_file)\n",
    "len(prod100_clms)"
   ]
  },
  {
   "cell_type": "code",
   "execution_count": null,
   "id": "0d41bbb6-e636-4185-b77c-a8d00fbae1ec",
   "metadata": {},
   "outputs": [],
   "source": [
    "#are all imported fields contained in the standard columns?\n",
    "common_0 = set(prod100_clms) & set(all_imported_fields)\n",
    "common_0 == set(all_imported_fields)"
   ]
  },
  {
   "cell_type": "code",
   "execution_count": null,
   "id": "4cbb4fa1-0153-474e-b38d-4636ad590a54",
   "metadata": {},
   "outputs": [],
   "source": [
    "len(set(prod100_clms) & set(all_imported_fields))"
   ]
  },
  {
   "cell_type": "code",
   "execution_count": null,
   "id": "46f6a141-28cf-4b34-87ad-f61b66c59769",
   "metadata": {},
   "outputs": [],
   "source": [
    "#what columns make up the difference? \n",
    "diff = prod100_clms - set(all_imported_fields)"
   ]
  },
  {
   "cell_type": "code",
   "execution_count": null,
   "id": "0eb2543f-a10d-4391-b908-fae44e755f51",
   "metadata": {},
   "outputs": [],
   "source": [
    "diff"
   ]
  },
  {
   "cell_type": "code",
   "execution_count": null,
   "id": "3bed14bb-17a2-4048-9292-5907252e0334",
   "metadata": {},
   "outputs": [],
   "source": [
    "prod100_df.loc[:,list(diff)].dtypes"
   ]
  },
  {
   "cell_type": "code",
   "execution_count": null,
   "id": "d2aa58b2-af50-4f04-a93c-cd4cfd4f199d",
   "metadata": {},
   "outputs": [],
   "source": [
    "df_import_complete = prod100_df.iloc[0:500].loc[:,list(diff)]"
   ]
  },
  {
   "cell_type": "code",
   "execution_count": null,
   "id": "70c6af79-0b24-4639-8d9c-b6a15fb2e47e",
   "metadata": {},
   "outputs": [],
   "source": [
    "dev100.import_records(df_import_complete, import_format = \"df\")"
   ]
  },
  {
   "cell_type": "markdown",
   "id": "6ee46ec6-a96c-4c05-8fe2-39aa4f287b81",
   "metadata": {},
   "source": [
    "## Explore PID278 Dataset, Export Text Fields to QA\n"
   ]
  },
  {
   "cell_type": "code",
   "execution_count": 4,
   "id": "5fe0f678-ba25-414f-94fc-bf1e4b4086bf",
   "metadata": {},
   "outputs": [],
   "source": [
    "def describe_fields(project):\n",
    "    \"\"\"\n",
    "    create a summary dataframe to describe every standard field from default API export\n",
    "    \n",
    "    args:\n",
    "        pycap Project object\n",
    "    return:\n",
    "        Dataframe\n",
    "        \n",
    "    \"\"\"\n",
    "    \n",
    "    df_fields = project.export_field_names(format_type = \"df\")\n",
    "    df_meta = project.export_metadata(format_type = \"df\")\n",
    "\n",
    "    #drop \"record_id\" field, it is the row index of dataframe export \n",
    "    #IS THIS STANDARD FIELD?? Possible bug if record_id is renamed?\n",
    "    df_meta = df_meta.drop(\"record_id\")\n",
    "    df_fields = df_fields.drop(\"record_id\")\n",
    "\n",
    "    #only need 2 fields from metadata export\n",
    "    df_meta = df_meta[[\"form_name\", \"field_type\"]].copy()\n",
    "\n",
    "    #combine fields from metadata and from export_field_names \n",
    "    df_fields_2 = df_fields.join(df_meta)\n",
    "    \n",
    "    #add field names that have type \"file\" (from metadata)\n",
    "    files_df = df_meta[df_meta[\"field_type\"] == \"file\"].copy()\n",
    "    files_df['export_field_name'] = files_df.index\n",
    "    df_fields_3 = pd.concat([df_fields_2, files_df])\n",
    "    \n",
    "    return df_fields_3"
   ]
  },
  {
   "cell_type": "code",
   "execution_count": 5,
   "id": "c1f99d8f-5582-4ea2-9ff7-d4cc2b102c4d",
   "metadata": {},
   "outputs": [],
   "source": [
    "df_fields_278 = describe_fields(prod278)"
   ]
  },
  {
   "cell_type": "code",
   "execution_count": 6,
   "id": "dd21fb6c-6d8e-47fd-8d07-da532968c5af",
   "metadata": {},
   "outputs": [
    {
     "data": {
      "text/plain": [
       "(133, 4)"
      ]
     },
     "execution_count": 6,
     "metadata": {},
     "output_type": "execute_result"
    }
   ],
   "source": [
    "df_fields_278.shape"
   ]
  },
  {
   "cell_type": "code",
   "execution_count": 12,
   "id": "9f380ecb-5121-4233-a03e-af52d1f5d3f1",
   "metadata": {},
   "outputs": [
    {
     "name": "stderr",
     "output_type": "stream",
     "text": [
      "C:\\Users\\AXG5303\\Miniconda3\\envs\\transform22\\lib\\site-packages\\redcap\\methods\\base.py:137: DtypeWarning: Columns (0,66,80,127) have mixed types. Specify dtype option on import or set low_memory=False.\n",
      "  dataframe = pd.read_csv(buf, **df_kwargs)\n"
     ]
    }
   ],
   "source": [
    "df_records_278 = prod278.export_records(format_type = \"df\")"
   ]
  },
  {
   "cell_type": "code",
   "execution_count": 25,
   "id": "844ba039-22ae-4629-9c7e-d07280a88bb4",
   "metadata": {},
   "outputs": [],
   "source": [
    "float_columns = df_records_278.dtypes[df_records_278.dtypes == float].index\n",
    "df_records_278.loc[:,float_columns] = df_records_278.loc[:,float_columns].astype(\"Int64\")\n",
    "\n",
    "df_records_import = df_records_278.iloc[0:500,:]"
   ]
  },
  {
   "cell_type": "code",
   "execution_count": 35,
   "id": "63d98f63-575a-4997-b8cd-05a3935767ad",
   "metadata": {},
   "outputs": [],
   "source": [
    "df_records_import_resett_index = df_records_import.reset_index()"
   ]
  },
  {
   "cell_type": "code",
   "execution_count": 34,
   "id": "59fbd475-2233-49b5-92bc-684e7198f6f9",
   "metadata": {},
   "outputs": [
    {
     "data": {
      "text/plain": [
       "{'count': 173}"
      ]
     },
     "execution_count": 34,
     "metadata": {},
     "output_type": "execute_result"
    }
   ],
   "source": [
    "dev278.import_records(df_records_import_resett_index, import_format = \"df\")"
   ]
  },
  {
   "cell_type": "code",
   "execution_count": null,
   "id": "88edfbca-b730-418c-9c82-276af3a13719",
   "metadata": {},
   "outputs": [],
   "source": []
  }
 ],
 "metadata": {
  "kernelspec": {
   "display_name": "Python [conda env:transform22] *",
   "language": "python",
   "name": "conda-env-transform22-py"
  },
  "language_info": {
   "codemirror_mode": {
    "name": "ipython",
    "version": 3
   },
   "file_extension": ".py",
   "mimetype": "text/x-python",
   "name": "python",
   "nbconvert_exporter": "python",
   "pygments_lexer": "ipython3",
   "version": "3.9.12"
  }
 },
 "nbformat": 4,
 "nbformat_minor": 5
}
