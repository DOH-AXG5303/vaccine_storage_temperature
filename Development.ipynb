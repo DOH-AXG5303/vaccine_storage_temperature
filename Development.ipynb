{
 "cells": [
  {
   "cell_type": "markdown",
   "id": "e6f898bd-1f54-4301-a9d8-367000cda526",
   "metadata": {},
   "source": [
    "# Exploring Vaccine Temp WorkFlow\n",
    "\n",
    "Notes:\n",
    "\n",
    "Report ID = [38,39]\n",
    "\n",
    "Objective:\n",
    "\n",
    "    - export dataset from PID100 (above reports)\n",
    "    - add a field [\"redcap_event_name\"]\n",
    "    - enter uniform value into field: \"march_2022_arm_1\" \"month_year_arm_1\"\n",
    "       - uniform format for redcap longitudinal event \n",
    "       - event must exist\n",
    "    - export into dataset from PID278 \n",
    "\n",
    "\n",
    "\n"
   ]
  },
  {
   "cell_type": "code",
   "execution_count": null,
   "id": "f965a775-6094-4d94-be47-7cc65b6b85f4",
   "metadata": {},
   "outputs": [],
   "source": []
  }
 ],
 "metadata": {
  "kernelspec": {
   "display_name": "Python [conda env:transform21] *",
   "language": "python",
   "name": "conda-env-transform21-py"
  },
  "language_info": {
   "codemirror_mode": {
    "name": "ipython",
    "version": 3
   },
   "file_extension": ".py",
   "mimetype": "text/x-python",
   "name": "python",
   "nbconvert_exporter": "python",
   "pygments_lexer": "ipython3",
   "version": "3.8.10"
  }
 },
 "nbformat": 4,
 "nbformat_minor": 5
}
